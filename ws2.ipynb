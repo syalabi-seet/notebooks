{
 "metadata": {
  "language_info": {
   "codemirror_mode": {
    "name": "ipython",
    "version": 3
   },
   "file_extension": ".py",
   "mimetype": "text/x-python",
   "name": "python",
   "nbconvert_exporter": "python",
   "pygments_lexer": "ipython3",
   "version": "3.8.5-final"
  },
  "orig_nbformat": 2,
  "kernelspec": {
   "name": "python3",
   "display_name": "Python 3.8.5 64-bit (conda)",
   "metadata": {
    "interpreter": {
     "hash": "fcd72cdc3f4254917300a33e31b2bcf21db88b80a87e57599d674a654672eb5b"
    }
   }
  }
 },
 "nbformat": 4,
 "nbformat_minor": 2,
 "cells": [
  {
   "source": [
    "## From demolib.py"
   ],
   "cell_type": "markdown",
   "metadata": {}
  },
  {
   "cell_type": "code",
   "execution_count": 1,
   "metadata": {},
   "outputs": [],
   "source": [
    "import os\n",
    "import math\n",
    "import numpy as np\n",
    "import pandas as pd\n",
    "import time\n",
    "from statistics import mean\n",
    "from math import sqrt\n",
    "from random import sample \n",
    "from tqdm.notebook import tqdm\n",
    "\n",
    "# convert the transaction data (long data) into a ratings matrix (wide data)\n",
    "# assume the first two columns are user and item names (which may be strings or integers and may not be contiguous)\n",
    "# and assume the third column is the rating\n",
    "# also generate two lookup tables to map user and item names into integer indexes, these are useful for accessing the ratings matrix\n",
    "def makeratingsmatrix(trans):\n",
    "    trans.columns = ['user','item','rating'] \n",
    "    # create the mappings between user and item names (as in raw data) and the matrix row and column indexes\n",
    "    unames  = np.sort(trans['user'].unique())\n",
    "    inames  = np.sort(trans['item'].unique())\n",
    "    umap = dict(zip(unames,[i for i in range(len(unames))]))\n",
    "    imap = dict(zip(inames,[i for i in range(len(inames))]))\n",
    "    # create the ratings matrix, use aggfunc = mean in case multiple ratings exist for same (user,item)\n",
    "    users = pd.pivot_table(trans, index=['user'], columns=['item'], values=['rating'],aggfunc=[mean]).values\n",
    "    return [users, umap, imap]\n",
    "\n",
    "# show percentage of cells in a rating matrix that are empty\n",
    "def sparsity(arr):\n",
    "    return float(np.isnan(arr).sum()*100)/np.prod(arr.shape)\n",
    "    #return (1.0 - ( count_nonzero(arr) / float(arr.size) )) # alternative, gives same result\n",
    "\n",
    "def wtavg(vals, weights):\n",
    "    xy = vals * weights\n",
    "    weights = weights[np.isnan(xy) == False] \n",
    "    #if len(weights) == 0 : return np.nan\n",
    "    if sum(weights) == 0 : return np.nan\n",
    "    vals = vals[np.isnan(xy)==False]\n",
    "    return sum(vals * weights)/sum(weights)\n",
    "        \n",
    "def pearsonsim(x,y):\n",
    "    xy = x*y\n",
    "    x = x[np.isnan(xy)==False]\n",
    "    y = y[np.isnan(xy)==False]\n",
    "    if(len(x)==0): return np.nan\n",
    "    mx=mean(x)\n",
    "    my=mean(y)\n",
    "    rt = sqrt(sum((x-mx)**2)*sum((y-my)**2))\n",
    "    if (rt == 0): return np.nan  #math.isnan(rt)==True or \n",
    "    return sum((x-mx)*(y-my))/rt\n",
    "               \n",
    "def cosinesim(x,y):\n",
    "    xy = x*y\n",
    "    x = x[np.isnan(xy)==False]\n",
    "    y = y[np.isnan(xy)==False]\n",
    "    if(len(x)==0): return np.nan\n",
    "    rt = sqrt(sum(x**2)*sum(y**2))\n",
    "    if (rt == 0): return np.nan \n",
    "    return sum(x*y)/rt\n",
    "\n",
    "def euclidsim(x,y):\n",
    "    xy = x*y\n",
    "    x = x[np.isnan(xy)==False]\n",
    "    y = y[np.isnan(xy)==False]\n",
    "    z=(y-x)**2\n",
    "    sz=sqrt(sum(z))\n",
    "    return 1/(1+sz)\n",
    "\n",
    "def euclidsimF(x,y):\n",
    "    xy = x*y\n",
    "    x = x[np.isnan(xy)==False]\n",
    "    y = y[np.isnan(xy)==False]\n",
    "    z=(y-x)**2\n",
    "    return 1/(1+sum(z))\n",
    "\n",
    "def getitemsimsmatrix(ratsmatrix,simfun):\n",
    "    r,c = ratsmatrix.shape\n",
    "    matrx = list([])\n",
    "    for col1 in tqdm(range(0,c)):\n",
    "        simrow = [0]*col1\n",
    "        for col2 in range(col1,c):\n",
    "            simrow.append(simfun(ratsmatrix[:,col1],ratsmatrix[:,col2]))\n",
    "        matrx.append(simrow)\n",
    "    matrx = np.array(matrx)\n",
    "    matrx = matrx + matrx.T - np.diag(np.diag(matrx))\n",
    "    return matrx\n",
    "\n",
    "# predict ratings for a given target user on a specified item \n",
    "def predictrating_UU(targetrats, ratsmatrix, targetitemindx, simfun):\n",
    "    return predictratings_UU(targetrats, ratsmatrix, doitems=[targetitemindx], simfun=simfun)[0]\n",
    "\n",
    "def predictrating_II(targetrats, itemsims, targetitemid):\n",
    "    return predictratings_II(targetrats, itemsims, doitems=[targetitemid])[0]\n",
    "\n",
    "# predict ratings for a given target user on a set of items (specified in doitems) \n",
    "def predictratings_UU(targetrats, ratsmatrix, doitems, simfun=pearsonsim):\n",
    "    sims = list([])\n",
    "    for row in ratsmatrix: sims.append(simfun(row,targetrats))\n",
    "    sims = np.array(sims)\n",
    "    with np.errstate(invalid='ignore'): sims[sims < 0] = np.nan\n",
    "    rats = list([])\n",
    "    for col in doitems: rats.append(wtavg(ratsmatrix[:,col],sims)) # assumes target rating is NA (if target in usersA)\n",
    "    return np.array(rats)\n",
    "\n",
    "def predictratings_II(targetrats,itemsims,doitems):\n",
    "    seenitems = np.isnan(targetrats)==False\n",
    "    rats = list([])\n",
    "    for row in doitems:\n",
    "        rats.append(wtavg(targetrats[seenitems],itemsims[row,seenitems])) \n",
    "    return np.array(rats)\n",
    "\n",
    "# get recommendations for a given target user\n",
    "def getRecommendations_UU(targetrats, ratsmatrix, imap, simfun=pearsonsim,topN=5):\n",
    "    itemnames=list(imap.keys())\n",
    "    unseenitemids = np.where(np.isnan(targetrats)==True)[0]\n",
    "    ratsA = predictratings_UU(targetrats, ratsmatrix, doitems=unseenitemids, simfun=simfun)\n",
    "    rats = pd.DataFrame(ratsA,index=[itemnames[i] for i in unseenitemids],columns=['predrating'])\n",
    "    rats = rats.sort_values(ascending = False, by=['predrating'])\n",
    "    return rats[0:min(topN,len(rats))]\n",
    "    \n",
    "def getRecommendations_II(targetrats, itemsims, imap, topN=5):\n",
    "    itemnames=list(imap.keys()) \n",
    "    unseenitemids = np.where(np.isnan(targetrats)==True)[0]\n",
    "    ratsA = predictratings_II(targetrats,itemsims,doitems=unseenitemids)\n",
    "    rats = pd.DataFrame(ratsA,index=[itemnames[i] for i in unseenitemids],columns=['predrating'])\n",
    "    rats = rats.sort_values(ascending = False, by=['predrating'])\n",
    "    return rats[0:min(topN,len(rats))]\n",
    "\n",
    "# compute prediction errors (predicted rating - actual rating) for the test events (events ~ 'user,item,rating')\n",
    "def computeErrs_UU(testevents, ratsmatrix, uids, iids, simfun=cosinesim):\n",
    "    res = list([])\n",
    "    for testevent in tqdm(testevents):\n",
    "        # print('.', end = '')\n",
    "        testuserindx = uids[testevent[0]]\n",
    "        testitemindx = iids[testevent[1]]\n",
    "        pred = predictrating_UU(ratsmatrix[testuserindx,],ratsmatrix,testitemindx,simfun=simfun)\n",
    "        res.append(pred-testevent[2])\n",
    "    return np.array(res)\n",
    "\n",
    "def computeErrs_II(testevents, ratsmatrix, uids, iids, itemsims):\n",
    "    res = list([])\n",
    "    for testevent in tqdm(testevents):\n",
    "        #print('.', end = '')\n",
    "        testuserindx = uids[testevent[0]]\n",
    "        testitemindx = iids[testevent[1]]\n",
    "        pred = predictrating_II(ratsmatrix[testuserindx,],itemsims,testitemindx)\n",
    "        res.append(pred-testevent[2])\n",
    "    return np.array(res)\n",
    "\n",
    "# returns the percentage ranking for each test event\n",
    "# if itemsims is supplied then do item-based CF, else do user-based CF\n",
    "# note: testevents contain user and item names (as in datafile) not ratmatrix indexes\n",
    "def computePercentageRanking(testevents, ratsmatrix, uids, iids, itemsims=False, simfun=cosinesim):\n",
    "    res = list([])\n",
    "    for testevent in tqdm(testevents):\n",
    "        testuserindx = uids[testevent[0]]\n",
    "        testitemname = testevent[1]\n",
    "        if (type(itemsims) == bool):\n",
    "            # print('.', end = '')\n",
    "            recs = getRecommendations_UU(ratsmatrix[testuserindx,], ratsmatrix, iids, simfun=simfun, topN=1000000)\n",
    "        else:\n",
    "            recs = getRecommendations_II(ratsmatrix[testuserindx,], itemsims, iids, topN=1000000)\n",
    "        # recs is a dataframe, the row names are the itemnames (as in the datafile)\n",
    "        # .index() gets the row names, .get_loc returns a row number (starting at 0)\n",
    "        rkpc = ((recs.index.get_loc(testitemname) + 1)*100)/len(recs) \n",
    "        res.append(rkpc)\n",
    "    return np.array(res)\n",
    "\n",
    "# compute hits and lift for the test events\n",
    "def computeLiftOverRandom(testevents, ratsmatrix, uids, iids, alg=\"uu\", itemsims=False, simfun=cosinesim, topN=10):\n",
    "    tothits = randhits = totrecs = 0\n",
    "    # each testevent is (username, itemname, rating)\n",
    "    for testevent in tqdm(testevents):\n",
    "        testuserindx = uids[testevent[0]]\n",
    "        if (alg == \"uu\"):\n",
    "            # print('.', end = '')\n",
    "            recs = getRecommendations_UU(ratsmatrix[testuserindx,], ratsmatrix, iids, simfun=simfun, topN=topN)\n",
    "        elif alg == \"ii\":\n",
    "            recs = getRecommendations_II(ratsmatrix[testuserindx,], itemsims, iids, topN=topN)\n",
    "        if testevent[1] in recs.index: tothits = tothits + 1\n",
    "        # do random recommendations\n",
    "        unseenitemids = list(np.where(np.isnan(ratsmatrix[testuserindx,])==True)[0])\n",
    "        recs = sample(unseenitemids,min(topN,len(recs)))  # only generate same # recs as CF above\n",
    "        if iids[testevent[1]] in recs: randhits =  randhits + 1\n",
    "        totrecs = totrecs + len(recs)\n",
    "    return tothits, randhits, totrecs\n",
    "\n",
    "# pretty show head of matrix\n",
    "def head(arr,r=10,c=10):\n",
    "    nr, nc = arr.shape\n",
    "    with np.printoptions(threshold=np.inf):\n",
    "        if type(arr) == np.ndarray:\n",
    "            print(arr[0:min(r,nr),0:min(c,nc)])\n",
    "        else:\n",
    "            print(arr.iloc[0:min(r,nr),0:min(c,nc)])"
   ]
  },
  {
   "source": [
    "### Movielens100K"
   ],
   "cell_type": "markdown",
   "metadata": {}
  },
  {
   "cell_type": "code",
   "execution_count": 2,
   "metadata": {},
   "outputs": [
    {
     "output_type": "execute_result",
     "data": {
      "text/plain": [
       "        user          movie  rating\n",
       "0       Rose    LadyinWater     2.5\n",
       "1       Rose  SnakesOnPlane     3.5\n",
       "2       Rose     JustMyLuck     3.0\n",
       "3       Rose       Superman     3.5\n",
       "4       Rose         Dupree     2.5\n",
       "5       Rose  NightListener     3.0\n",
       "6    Seymour    LadyinWater     3.0\n",
       "7    Seymour  SnakesOnPlane     3.5\n",
       "8    Seymour     JustMyLuck     1.5\n",
       "9    Seymour       Superman     5.0\n",
       "10   Seymour         Dupree     3.5\n",
       "11   Seymour  NightListener     3.0\n",
       "12   Philips    LadyinWater     2.5\n",
       "13   Philips  SnakesOnPlane     3.0\n",
       "14   Philips       Superman     3.5\n",
       "15   Philips  NightListener     4.0\n",
       "16      Puig  SnakesOnPlane     3.5\n",
       "17      Puig     JustMyLuck     3.0\n",
       "18      Puig       Superman     4.0\n",
       "19      Puig         Dupree     2.5\n",
       "20      Puig  NightListener     4.5\n",
       "21   LaSalle    LadyinWater     3.0\n",
       "22   LaSalle  SnakesOnPlane     4.0\n",
       "23   LaSalle     JustMyLuck     2.0\n",
       "24   LaSalle       Superman     3.0\n",
       "25   LaSalle         Dupree     2.0\n",
       "26   LaSalle  NightListener     3.0\n",
       "27  Matthews    LadyinWater     3.0\n",
       "28  Matthews  SnakesOnPlane     4.0\n",
       "29  Matthews       Superman     5.0\n",
       "30  Matthews         Dupree     3.5\n",
       "31  Matthews  NightListener     3.0\n",
       "32      Toby  SnakesOnPlane     4.5\n",
       "33      Toby       Superman     4.0\n",
       "34      Toby         Dupree     1.0\n",
       "35     Barry    LadyinWater     3.0\n",
       "36     Barry     JustMyLuck     2.0\n",
       "37     Barry  NightListener     1.0"
      ],
      "text/html": "<div>\n<style scoped>\n    .dataframe tbody tr th:only-of-type {\n        vertical-align: middle;\n    }\n\n    .dataframe tbody tr th {\n        vertical-align: top;\n    }\n\n    .dataframe thead th {\n        text-align: right;\n    }\n</style>\n<table border=\"1\" class=\"dataframe\">\n  <thead>\n    <tr style=\"text-align: right;\">\n      <th></th>\n      <th>user</th>\n      <th>movie</th>\n      <th>rating</th>\n    </tr>\n  </thead>\n  <tbody>\n    <tr>\n      <th>0</th>\n      <td>Rose</td>\n      <td>LadyinWater</td>\n      <td>2.5</td>\n    </tr>\n    <tr>\n      <th>1</th>\n      <td>Rose</td>\n      <td>SnakesOnPlane</td>\n      <td>3.5</td>\n    </tr>\n    <tr>\n      <th>2</th>\n      <td>Rose</td>\n      <td>JustMyLuck</td>\n      <td>3.0</td>\n    </tr>\n    <tr>\n      <th>3</th>\n      <td>Rose</td>\n      <td>Superman</td>\n      <td>3.5</td>\n    </tr>\n    <tr>\n      <th>4</th>\n      <td>Rose</td>\n      <td>Dupree</td>\n      <td>2.5</td>\n    </tr>\n    <tr>\n      <th>5</th>\n      <td>Rose</td>\n      <td>NightListener</td>\n      <td>3.0</td>\n    </tr>\n    <tr>\n      <th>6</th>\n      <td>Seymour</td>\n      <td>LadyinWater</td>\n      <td>3.0</td>\n    </tr>\n    <tr>\n      <th>7</th>\n      <td>Seymour</td>\n      <td>SnakesOnPlane</td>\n      <td>3.5</td>\n    </tr>\n    <tr>\n      <th>8</th>\n      <td>Seymour</td>\n      <td>JustMyLuck</td>\n      <td>1.5</td>\n    </tr>\n    <tr>\n      <th>9</th>\n      <td>Seymour</td>\n      <td>Superman</td>\n      <td>5.0</td>\n    </tr>\n    <tr>\n      <th>10</th>\n      <td>Seymour</td>\n      <td>Dupree</td>\n      <td>3.5</td>\n    </tr>\n    <tr>\n      <th>11</th>\n      <td>Seymour</td>\n      <td>NightListener</td>\n      <td>3.0</td>\n    </tr>\n    <tr>\n      <th>12</th>\n      <td>Philips</td>\n      <td>LadyinWater</td>\n      <td>2.5</td>\n    </tr>\n    <tr>\n      <th>13</th>\n      <td>Philips</td>\n      <td>SnakesOnPlane</td>\n      <td>3.0</td>\n    </tr>\n    <tr>\n      <th>14</th>\n      <td>Philips</td>\n      <td>Superman</td>\n      <td>3.5</td>\n    </tr>\n    <tr>\n      <th>15</th>\n      <td>Philips</td>\n      <td>NightListener</td>\n      <td>4.0</td>\n    </tr>\n    <tr>\n      <th>16</th>\n      <td>Puig</td>\n      <td>SnakesOnPlane</td>\n      <td>3.5</td>\n    </tr>\n    <tr>\n      <th>17</th>\n      <td>Puig</td>\n      <td>JustMyLuck</td>\n      <td>3.0</td>\n    </tr>\n    <tr>\n      <th>18</th>\n      <td>Puig</td>\n      <td>Superman</td>\n      <td>4.0</td>\n    </tr>\n    <tr>\n      <th>19</th>\n      <td>Puig</td>\n      <td>Dupree</td>\n      <td>2.5</td>\n    </tr>\n    <tr>\n      <th>20</th>\n      <td>Puig</td>\n      <td>NightListener</td>\n      <td>4.5</td>\n    </tr>\n    <tr>\n      <th>21</th>\n      <td>LaSalle</td>\n      <td>LadyinWater</td>\n      <td>3.0</td>\n    </tr>\n    <tr>\n      <th>22</th>\n      <td>LaSalle</td>\n      <td>SnakesOnPlane</td>\n      <td>4.0</td>\n    </tr>\n    <tr>\n      <th>23</th>\n      <td>LaSalle</td>\n      <td>JustMyLuck</td>\n      <td>2.0</td>\n    </tr>\n    <tr>\n      <th>24</th>\n      <td>LaSalle</td>\n      <td>Superman</td>\n      <td>3.0</td>\n    </tr>\n    <tr>\n      <th>25</th>\n      <td>LaSalle</td>\n      <td>Dupree</td>\n      <td>2.0</td>\n    </tr>\n    <tr>\n      <th>26</th>\n      <td>LaSalle</td>\n      <td>NightListener</td>\n      <td>3.0</td>\n    </tr>\n    <tr>\n      <th>27</th>\n      <td>Matthews</td>\n      <td>LadyinWater</td>\n      <td>3.0</td>\n    </tr>\n    <tr>\n      <th>28</th>\n      <td>Matthews</td>\n      <td>SnakesOnPlane</td>\n      <td>4.0</td>\n    </tr>\n    <tr>\n      <th>29</th>\n      <td>Matthews</td>\n      <td>Superman</td>\n      <td>5.0</td>\n    </tr>\n    <tr>\n      <th>30</th>\n      <td>Matthews</td>\n      <td>Dupree</td>\n      <td>3.5</td>\n    </tr>\n    <tr>\n      <th>31</th>\n      <td>Matthews</td>\n      <td>NightListener</td>\n      <td>3.0</td>\n    </tr>\n    <tr>\n      <th>32</th>\n      <td>Toby</td>\n      <td>SnakesOnPlane</td>\n      <td>4.5</td>\n    </tr>\n    <tr>\n      <th>33</th>\n      <td>Toby</td>\n      <td>Superman</td>\n      <td>4.0</td>\n    </tr>\n    <tr>\n      <th>34</th>\n      <td>Toby</td>\n      <td>Dupree</td>\n      <td>1.0</td>\n    </tr>\n    <tr>\n      <th>35</th>\n      <td>Barry</td>\n      <td>LadyinWater</td>\n      <td>3.0</td>\n    </tr>\n    <tr>\n      <th>36</th>\n      <td>Barry</td>\n      <td>JustMyLuck</td>\n      <td>2.0</td>\n    </tr>\n    <tr>\n      <th>37</th>\n      <td>Barry</td>\n      <td>NightListener</td>\n      <td>1.0</td>\n    </tr>\n  </tbody>\n</table>\n</div>"
     },
     "metadata": {},
     "execution_count": 2
    }
   ],
   "source": [
    "# load the data\n",
    "trans = pd.read_csv(r'C:\\Users\\xBaka\\Notebooks\\School\\Day 7\\workshop2\\simplemovies-transactions.csv')\n",
    "trans"
   ]
  },
  {
   "cell_type": "code",
   "execution_count": 3,
   "metadata": {},
   "outputs": [
    {
     "output_type": "stream",
     "name": "stdout",
     "text": [
      "ratmatrix.shape: (8, 6)\nratmatrix:\n [[nan 2.  3.  1.  nan nan]\n [2.  2.  3.  3.  4.  3. ]\n [3.5 nan 3.  3.  4.  5. ]\n [nan nan 2.5 4.  3.  3.5]\n [2.5 3.  nan 4.5 3.5 4. ]\n [2.5 3.  2.5 3.  3.5 3.5]\n [3.5 1.5 3.  3.  3.5 5. ]\n [1.  nan nan nan 4.5 4. ]]\nuids: {'Barry': 0, 'LaSalle': 1, 'Matthews': 2, 'Philips': 3, 'Puig': 4, 'Rose': 5, 'Seymour': 6, 'Toby': 7}\n"
     ]
    }
   ],
   "source": [
    "# convert from ratings events into a ratings matrix\n",
    "# Note: uids and iids map the user and item names to matrix indexes (starting at 0)\n",
    "ratmatrix, uids, iids = makeratingsmatrix(trans) \n",
    "print('ratmatrix.shape:', ratmatrix.shape)\n",
    "print('ratmatrix:\\n', ratmatrix)\n",
    "print('uids:', uids)"
   ]
  },
  {
   "cell_type": "code",
   "execution_count": 4,
   "metadata": {},
   "outputs": [
    {
     "output_type": "execute_result",
     "data": {
      "text/plain": [
       "array([1. , nan, nan, nan, 4.5, 4. ])"
      ]
     },
     "metadata": {},
     "execution_count": 4
    }
   ],
   "source": [
    "# make recommendations for a specific user\n",
    "targetname = \"Toby\" \n",
    "targetrats = ratmatrix[uids[targetname],] # note: index into the ratings matrix is by index, e.g. user \"10\" ~ index 9\n",
    "targetrats"
   ]
  },
  {
   "cell_type": "code",
   "execution_count": 5,
   "metadata": {},
   "outputs": [
    {
     "output_type": "execute_result",
     "data": {
      "text/plain": [
       "               predrating\n",
       "NightListener    3.347790\n",
       "LadyinWater      2.832550\n",
       "JustMyLuck       2.530981"
      ],
      "text/html": "<div>\n<style scoped>\n    .dataframe tbody tr th:only-of-type {\n        vertical-align: middle;\n    }\n\n    .dataframe tbody tr th {\n        vertical-align: top;\n    }\n\n    .dataframe thead th {\n        text-align: right;\n    }\n</style>\n<table border=\"1\" class=\"dataframe\">\n  <thead>\n    <tr style=\"text-align: right;\">\n      <th></th>\n      <th>predrating</th>\n    </tr>\n  </thead>\n  <tbody>\n    <tr>\n      <th>NightListener</th>\n      <td>3.347790</td>\n    </tr>\n    <tr>\n      <th>LadyinWater</th>\n      <td>2.832550</td>\n    </tr>\n    <tr>\n      <th>JustMyLuck</th>\n      <td>2.530981</td>\n    </tr>\n  </tbody>\n</table>\n</div>"
     },
     "metadata": {},
     "execution_count": 5
    }
   ],
   "source": [
    "# When using pearson the recommendations for Toby should be: 3.35 (night), 2.83 (lady), 2.53 (luck)\n",
    "getRecommendations_UU(targetrats, ratmatrix, iids, simfun=pearsonsim, topN = 10)"
   ]
  },
  {
   "cell_type": "code",
   "execution_count": 6,
   "metadata": {},
   "outputs": [
    {
     "output_type": "display_data",
     "data": {
      "text/plain": "HBox(children=(HTML(value=''), FloatProgress(value=0.0, max=6.0), HTML(value='')))",
      "application/vnd.jupyter.widget-view+json": {
       "version_major": 2,
       "version_minor": 0,
       "model_id": "54082f006873479199f1e3ac4f68d829"
      }
     },
     "metadata": {}
    },
    {
     "output_type": "stream",
     "name": "stdout",
     "text": [
      "\ntime 0.0291 seconds\n"
     ]
    }
   ],
   "source": [
    "# compute item-item similarity matrix (to use the timer, select all 3 lines and then run) \n",
    "tic = time.perf_counter()\n",
    "itemsims = getitemsimsmatrix(ratmatrix, simfun=euclidsimF) # use euclidsimF to agree with book/slide calcs\n",
    "print(f\"time {time.perf_counter() - tic:0.4f} seconds\")"
   ]
  },
  {
   "cell_type": "code",
   "execution_count": 7,
   "metadata": {},
   "outputs": [
    {
     "output_type": "stream",
     "name": "stdout",
     "text": [
      "[[1.         0.18181818 0.4        0.14814815 0.05128205 0.05333333]\n [0.18181818 1.         0.18181818 0.13333333 0.10526316 0.06451613]\n [0.4        0.18181818 1.         0.13333333 0.22222222 0.09090909]\n [0.14814815 0.13333333 0.13333333 1.         0.18181818 0.1025641 ]\n [0.05128205 0.10526316 0.22222222 0.18181818 1.         0.16666667]\n [0.05333333 0.06451613 0.09090909 0.1025641  0.16666667 1.        ]]\n"
     ]
    }
   ],
   "source": [
    "head(itemsims) # view the similarity matrix"
   ]
  },
  {
   "cell_type": "code",
   "execution_count": 8,
   "metadata": {},
   "outputs": [
    {
     "output_type": "execute_result",
     "data": {
      "text/plain": [
       "               predrating\n",
       "NightListener    3.182635\n",
       "JustMyLuck       2.598332\n",
       "LadyinWater      2.473088"
      ],
      "text/html": "<div>\n<style scoped>\n    .dataframe tbody tr th:only-of-type {\n        vertical-align: middle;\n    }\n\n    .dataframe tbody tr th {\n        vertical-align: top;\n    }\n\n    .dataframe thead th {\n        text-align: right;\n    }\n</style>\n<table border=\"1\" class=\"dataframe\">\n  <thead>\n    <tr style=\"text-align: right;\">\n      <th></th>\n      <th>predrating</th>\n    </tr>\n  </thead>\n  <tbody>\n    <tr>\n      <th>NightListener</th>\n      <td>3.182635</td>\n    </tr>\n    <tr>\n      <th>JustMyLuck</th>\n      <td>2.598332</td>\n    </tr>\n    <tr>\n      <th>LadyinWater</th>\n      <td>2.473088</td>\n    </tr>\n  </tbody>\n</table>\n</div>"
     },
     "metadata": {},
     "execution_count": 8
    }
   ],
   "source": [
    "# II recommendations for Toby with euclideanF shd be: 3.183 (night), 2.598 (luck), 2.473 (lady)\n",
    "getRecommendations_II(targetrats, itemsims, iids, topN = 10)"
   ]
  },
  {
   "cell_type": "code",
   "execution_count": 9,
   "metadata": {},
   "outputs": [
    {
     "output_type": "stream",
     "name": "stdout",
     "text": [
      "[[        nan  0.          1.         -1.                 nan         nan]\n [-0.83333333 -0.83333333  0.16666667  0.16666667  1.16666667  0.16666667]\n [-0.2                nan -0.7        -0.7         0.3         1.3       ]\n [        nan         nan -0.75        0.75       -0.25        0.25      ]\n [-1.         -0.5                nan  1.          0.          0.5       ]\n [-0.5         0.         -0.5         0.          0.5         0.5       ]\n [ 0.25       -1.75       -0.25       -0.25        0.25        1.75      ]\n [-2.16666667         nan         nan         nan  1.33333333  0.83333333]]\n"
     ]
    }
   ],
   "source": [
    "# lets try pre-normalising the data\n",
    "rowmeans = np.nanmean(ratmatrix,axis=1); rowmeans\n",
    "normratmatrix = ratmatrix.copy()\n",
    "for i in range(ratmatrix.shape[0]):  # iterate over rows\n",
    "    normratmatrix[i] = normratmatrix[i] - rowmeans[i]\n",
    "head(normratmatrix)"
   ]
  },
  {
   "cell_type": "code",
   "execution_count": 10,
   "metadata": {},
   "outputs": [
    {
     "output_type": "execute_result",
     "data": {
      "text/plain": [
       "               predrating\n",
       "NightListener    3.293360\n",
       "LadyinWater      2.862307\n",
       "JustMyLuck       2.576052"
      ],
      "text/html": "<div>\n<style scoped>\n    .dataframe tbody tr th:only-of-type {\n        vertical-align: middle;\n    }\n\n    .dataframe tbody tr th {\n        vertical-align: top;\n    }\n\n    .dataframe thead th {\n        text-align: right;\n    }\n</style>\n<table border=\"1\" class=\"dataframe\">\n  <thead>\n    <tr style=\"text-align: right;\">\n      <th></th>\n      <th>predrating</th>\n    </tr>\n  </thead>\n  <tbody>\n    <tr>\n      <th>NightListener</th>\n      <td>3.293360</td>\n    </tr>\n    <tr>\n      <th>LadyinWater</th>\n      <td>2.862307</td>\n    </tr>\n    <tr>\n      <th>JustMyLuck</th>\n      <td>2.576052</td>\n    </tr>\n  </tbody>\n</table>\n</div>"
     },
     "metadata": {},
     "execution_count": 10
    }
   ],
   "source": [
    "# redo the UU recommendations\n",
    "targetrats = normratmatrix[uids[targetname],] \n",
    "recs = getRecommendations_UU(targetrats, normratmatrix, iids, simfun=pearsonsim, topN = 10); recs # the normalised rating predictions\n",
    "recs + rowmeans[uids[targetname]] # the unnormalised rating predictions, should be similar but not idential to the unnormalised predictions"
   ]
  },
  {
   "source": [
    "## Testing"
   ],
   "cell_type": "markdown",
   "metadata": {}
  },
  {
   "cell_type": "code",
   "execution_count": 11,
   "metadata": {},
   "outputs": [
    {
     "output_type": "execute_result",
     "data": {
      "text/plain": [
       "     user          movie  rating\n",
       "0    Rose    LadyinWater     2.5\n",
       "1    Rose  SnakesOnPlane     3.5\n",
       "2    Rose     JustMyLuck     3.0\n",
       "3    Rose       Superman     3.5\n",
       "4    Rose         Dupree     2.5\n",
       "..    ...            ...     ...\n",
       "62  Tully       Superman     4.0\n",
       "63  Tully  NightListener     2.0\n",
       "64  Billy  SnakesOnPlane     4.5\n",
       "65  Billy     JustMyLuck     3.0\n",
       "66  Billy       Superman     3.0\n",
       "\n",
       "[67 rows x 3 columns]"
      ],
      "text/html": "<div>\n<style scoped>\n    .dataframe tbody tr th:only-of-type {\n        vertical-align: middle;\n    }\n\n    .dataframe tbody tr th {\n        vertical-align: top;\n    }\n\n    .dataframe thead th {\n        text-align: right;\n    }\n</style>\n<table border=\"1\" class=\"dataframe\">\n  <thead>\n    <tr style=\"text-align: right;\">\n      <th></th>\n      <th>user</th>\n      <th>movie</th>\n      <th>rating</th>\n    </tr>\n  </thead>\n  <tbody>\n    <tr>\n      <th>0</th>\n      <td>Rose</td>\n      <td>LadyinWater</td>\n      <td>2.5</td>\n    </tr>\n    <tr>\n      <th>1</th>\n      <td>Rose</td>\n      <td>SnakesOnPlane</td>\n      <td>3.5</td>\n    </tr>\n    <tr>\n      <th>2</th>\n      <td>Rose</td>\n      <td>JustMyLuck</td>\n      <td>3.0</td>\n    </tr>\n    <tr>\n      <th>3</th>\n      <td>Rose</td>\n      <td>Superman</td>\n      <td>3.5</td>\n    </tr>\n    <tr>\n      <th>4</th>\n      <td>Rose</td>\n      <td>Dupree</td>\n      <td>2.5</td>\n    </tr>\n    <tr>\n      <th>...</th>\n      <td>...</td>\n      <td>...</td>\n      <td>...</td>\n    </tr>\n    <tr>\n      <th>62</th>\n      <td>Tully</td>\n      <td>Superman</td>\n      <td>4.0</td>\n    </tr>\n    <tr>\n      <th>63</th>\n      <td>Tully</td>\n      <td>NightListener</td>\n      <td>2.0</td>\n    </tr>\n    <tr>\n      <th>64</th>\n      <td>Billy</td>\n      <td>SnakesOnPlane</td>\n      <td>4.5</td>\n    </tr>\n    <tr>\n      <th>65</th>\n      <td>Billy</td>\n      <td>JustMyLuck</td>\n      <td>3.0</td>\n    </tr>\n    <tr>\n      <th>66</th>\n      <td>Billy</td>\n      <td>Superman</td>\n      <td>3.0</td>\n    </tr>\n  </tbody>\n</table>\n<p>67 rows × 3 columns</p>\n</div>"
     },
     "metadata": {},
     "execution_count": 11
    }
   ],
   "source": [
    "# load a bigger data so that we can split into training and test sets\n",
    "trans = pd.read_csv('simplemovies-transactions-moreusers.csv')\n",
    "trans"
   ]
  },
  {
   "cell_type": "code",
   "execution_count": 12,
   "metadata": {},
   "outputs": [
    {
     "output_type": "stream",
     "name": "stdout",
     "text": [
      "ratmatrix.shape: (16, 6)\nratmatrix:\n [[nan 2.  3.  1.  nan nan]\n [nan 3.  nan nan 4.5 3. ]\n [nan nan nan 1.5 4.  1. ]\n [nan 1.5 nan nan 1.  nan]\n [2.  2.  3.  3.  4.  3. ]\n [5.  nan 2.  nan 2.5 4.5]\n [3.5 nan 3.  3.  4.  5. ]\n [nan nan nan 4.5 4.5 4.5]\n [nan nan 2.5 4.  3.  3.5]\n [2.5 3.  nan 4.5 3.5 4. ]\n [2.5 3.  2.5 3.  3.5 3.5]\n [1.5 nan 3.  1.  3.5 nan]\n [3.5 1.5 3.  3.  3.5 5. ]\n [1.  nan nan nan 4.5 4. ]\n [nan 4.5 3.5 2.  3.5 4. ]\n [4.  2.  nan 5.  1.  3. ]]\nuids: {'Barry': 0, 'Billy': 1, 'Garry': 2, 'Harry': 3, 'LaSalle': 4, 'Larry': 5, 'Matthews': 6, 'Molly': 7, 'Philips': 8, 'Puig': 9, 'Rose': 10, 'Sally': 11, 'Seymour': 12, 'Toby': 13, 'Tully': 14, 'Wally': 15}\n"
     ]
    }
   ],
   "source": [
    "ratmatrix, uids, iids = makeratingsmatrix(trans)\n",
    "print('ratmatrix.shape:', ratmatrix.shape)\n",
    "print('ratmatrix:\\n', ratmatrix)\n",
    "print('uids:', uids)"
   ]
  },
  {
   "cell_type": "code",
   "execution_count": 13,
   "metadata": {},
   "outputs": [
    {
     "output_type": "execute_result",
     "data": {
      "text/plain": [
       "[['Seymour', 'SnakesOnPlane', 3.5],\n",
       " ['Barry', 'NightListener', 1.0],\n",
       " ['LaSalle', 'LadyinWater', 3.0],\n",
       " ['Seymour', 'LadyinWater', 3.0],\n",
       " ['Tully', 'LadyinWater', 3.5],\n",
       " ['Rose', 'Superman', 3.5],\n",
       " ['Seymour', 'NightListener', 3.0],\n",
       " ['LaSalle', 'JustMyLuck', 2.0],\n",
       " ['Sally', 'SnakesOnPlane', 3.5],\n",
       " ['Matthews', 'Dupree', 3.5]]"
      ]
     },
     "metadata": {},
     "execution_count": 13
    }
   ],
   "source": [
    "# extract a testset from the rating events by random sampling\n",
    "testsize = 10\n",
    "testevents = trans.sample(n=testsize).values.tolist()\n",
    "testevents"
   ]
  },
  {
   "cell_type": "code",
   "execution_count": 14,
   "metadata": {},
   "outputs": [
    {
     "output_type": "display_data",
     "data": {
      "text/plain": "HBox(children=(HTML(value=''), FloatProgress(value=0.0, max=10.0), HTML(value='')))",
      "application/vnd.jupyter.widget-view+json": {
       "version_major": 2,
       "version_minor": 0,
       "model_id": "e7f27267be50453587255aa1f5adb83f"
      }
     },
     "metadata": {}
    },
    {
     "output_type": "stream",
     "name": "stdout",
     "text": [
      "\n"
     ]
    },
    {
     "output_type": "execute_result",
     "data": {
      "text/plain": [
       "0.5327816835567722"
      ]
     },
     "metadata": {},
     "execution_count": 14
    }
   ],
   "source": [
    "# blank out the testset ratings in the ratings matrix - this now becomes our training data\n",
    "for (uname,iname,rating) in testevents: ratmatrix[uids[uname],iids[iname]] = np.nan \n",
    "\n",
    "# try using each of these in turn \n",
    "simfun = pearsonsim \n",
    "# simfun = cosinesim\n",
    "# simfun = euclidsim\n",
    "\n",
    "# execute the test function in demolib to make ratings predictions for the test events and obtain the prediction errors\n",
    "# note: to desplay progress, this function prints a \".\" for every testevent processed\n",
    "errs = computeErrs_UU(testevents, ratmatrix, uids, iids, simfun=simfun)\n",
    "errs\n",
    "np.nanmean(abs(errs))"
   ]
  },
  {
   "cell_type": "code",
   "execution_count": 15,
   "metadata": {},
   "outputs": [
    {
     "output_type": "display_data",
     "data": {
      "text/plain": "HBox(children=(HTML(value=''), FloatProgress(value=0.0, max=6.0), HTML(value='')))",
      "application/vnd.jupyter.widget-view+json": {
       "version_major": 2,
       "version_minor": 0,
       "model_id": "ae44cf8cc9a34c3b9e266801ba2ffd7d"
      }
     },
     "metadata": {}
    },
    {
     "output_type": "stream",
     "name": "stdout",
     "text": [
      "\ntime 0.0188 seconds\n"
     ]
    },
    {
     "output_type": "display_data",
     "data": {
      "text/plain": "HBox(children=(HTML(value=''), FloatProgress(value=0.0, max=10.0), HTML(value='')))",
      "application/vnd.jupyter.widget-view+json": {
       "version_major": 2,
       "version_minor": 0,
       "model_id": "255a50aaa7114422974e5a4dac697f65"
      }
     },
     "metadata": {}
    },
    {
     "output_type": "stream",
     "name": "stdout",
     "text": [
      "\n"
     ]
    },
    {
     "output_type": "execute_result",
     "data": {
      "text/plain": [
       "0.6069953298299642"
      ]
     },
     "metadata": {},
     "execution_count": 15
    }
   ],
   "source": [
    "# calc the item similarity matrix\n",
    "# try using each of these in turn\n",
    "simfun = euclidsim\n",
    "# simfun = cosinesim\n",
    "\n",
    "tic = time.perf_counter()\n",
    "itemsims = getitemsimsmatrix(ratmatrix, simfun = simfun)\n",
    "print(f\"time {time.perf_counter() - tic:0.4f} seconds\")\n",
    "\n",
    "errs = computeErrs_II(testevents, ratmatrix, uids, iids, itemsims)\n",
    "np.nanmean(abs(errs))"
   ]
  },
  {
   "cell_type": "code",
   "execution_count": 16,
   "metadata": {},
   "outputs": [
    {
     "output_type": "display_data",
     "data": {
      "text/plain": "HBox(children=(HTML(value=''), FloatProgress(value=0.0, max=10.0), HTML(value='')))",
      "application/vnd.jupyter.widget-view+json": {
       "version_major": 2,
       "version_minor": 0,
       "model_id": "000db0be9c144eea9dd417c8b2d0316d"
      }
     },
     "metadata": {}
    },
    {
     "output_type": "stream",
     "name": "stdout",
     "text": [
      "\n"
     ]
    },
    {
     "output_type": "execute_result",
     "data": {
      "text/plain": [
       "71.66666666666666"
      ]
     },
     "metadata": {},
     "execution_count": 16
    }
   ],
   "source": [
    "# compute percentage rank for each test event \n",
    "# (% position of test event in the list of unseenitems ranked descending by their predicted rating, a low % position is good)\n",
    "prs = computePercentageRanking(testevents, ratmatrix, uids, iids, simfun=cosinesim) #  user-based\n",
    "np.nanmean(abs(prs))"
   ]
  },
  {
   "cell_type": "code",
   "execution_count": 17,
   "metadata": {},
   "outputs": [
    {
     "output_type": "display_data",
     "data": {
      "text/plain": "HBox(children=(HTML(value=''), FloatProgress(value=0.0, max=10.0), HTML(value='')))",
      "application/vnd.jupyter.widget-view+json": {
       "version_major": 2,
       "version_minor": 0,
       "model_id": "954d6b6c3ce44b528fb16fe8239ad103"
      }
     },
     "metadata": {}
    },
    {
     "output_type": "stream",
     "name": "stdout",
     "text": [
      "\n"
     ]
    },
    {
     "output_type": "execute_result",
     "data": {
      "text/plain": [
       "60.833333333333336"
      ]
     },
     "metadata": {},
     "execution_count": 17
    }
   ],
   "source": [
    "prs = computePercentageRanking(testevents, ratmatrix, uids, iids, itemsims=itemsims) # item-based (since item sim.matrix is supplied)\n",
    "np.nanmean(abs(prs))"
   ]
  },
  {
   "cell_type": "code",
   "execution_count": 18,
   "metadata": {},
   "outputs": [
    {
     "output_type": "display_data",
     "data": {
      "text/plain": "HBox(children=(HTML(value=''), FloatProgress(value=0.0, max=10.0), HTML(value='')))",
      "application/vnd.jupyter.widget-view+json": {
       "version_major": 2,
       "version_minor": 0,
       "model_id": "95acc5fbbc0249c893daf1f40c768d88"
      }
     },
     "metadata": {}
    },
    {
     "output_type": "stream",
     "name": "stdout",
     "text": [
      "\n\nlift= 1.0 cfhits= 10 randhits= 10 totitemsrecommended= 25\n"
     ]
    },
    {
     "output_type": "display_data",
     "data": {
      "text/plain": "HBox(children=(HTML(value=''), FloatProgress(value=0.0, max=10.0), HTML(value='')))",
      "application/vnd.jupyter.widget-view+json": {
       "version_major": 2,
       "version_minor": 0,
       "model_id": "712eb6fe2d594451a287b3c8c0662378"
      }
     },
     "metadata": {}
    },
    {
     "output_type": "stream",
     "name": "stdout",
     "text": [
      "\n\nlift= 1.0 cfhits= 10 randhits= 10 totitemsrecommended= 25\n"
     ]
    },
    {
     "output_type": "display_data",
     "data": {
      "text/plain": "HBox(children=(HTML(value=''), FloatProgress(value=0.0, max=10.0), HTML(value='')))",
      "application/vnd.jupyter.widget-view+json": {
       "version_major": 2,
       "version_minor": 0,
       "model_id": "646fbad46fb146958f1a4a523c05f5cb"
      }
     },
     "metadata": {}
    },
    {
     "output_type": "stream",
     "name": "stdout",
     "text": [
      "\n\nlift= 1.0 cfhits= 10 randhits= 10 totitemsrecommended= 25\n"
     ]
    },
    {
     "output_type": "display_data",
     "data": {
      "text/plain": "HBox(children=(HTML(value=''), FloatProgress(value=0.0, max=10.0), HTML(value='')))",
      "application/vnd.jupyter.widget-view+json": {
       "version_major": 2,
       "version_minor": 0,
       "model_id": "d3767cf0768b4cc88b6b389bafcf0aa6"
      }
     },
     "metadata": {}
    },
    {
     "output_type": "stream",
     "name": "stdout",
     "text": [
      "\n\nlift= 1.0 cfhits= 10 randhits= 10 totitemsrecommended= 25\n"
     ]
    },
    {
     "output_type": "display_data",
     "data": {
      "text/plain": "HBox(children=(HTML(value=''), FloatProgress(value=0.0, max=10.0), HTML(value='')))",
      "application/vnd.jupyter.widget-view+json": {
       "version_major": 2,
       "version_minor": 0,
       "model_id": "dfdffcc7e785413ebb88eff7a6e2eaaf"
      }
     },
     "metadata": {}
    },
    {
     "output_type": "stream",
     "name": "stdout",
     "text": [
      "\n\nlift= 1.0 cfhits= 10 randhits= 10 totitemsrecommended= 25\n"
     ]
    },
    {
     "output_type": "display_data",
     "data": {
      "text/plain": "HBox(children=(HTML(value=''), FloatProgress(value=0.0, max=10.0), HTML(value='')))",
      "application/vnd.jupyter.widget-view+json": {
       "version_major": 2,
       "version_minor": 0,
       "model_id": "e196811f6f3b4cb68857c66aed542568"
      }
     },
     "metadata": {}
    },
    {
     "output_type": "stream",
     "name": "stdout",
     "text": [
      "\n\nlift= 1.0 cfhits= 10 randhits= 10 totitemsrecommended= 25\n"
     ]
    }
   ],
   "source": [
    "# compute lift over random, where lift = (#hits using CF)/(#hits using random)\n",
    "# Note: small values of topN may not yield any hits , hence below we try a range of values for topN\n",
    "# Also note that for bigger values of topN the lift over random is expected to be smaller\n",
    "\n",
    "# lift for user-based CF\n",
    "for k in [5,10,50]:\n",
    "    cfhits, randhits, recsmade = computeLiftOverRandom(testevents, ratmatrix, uids, iids, alg = \"uu\", simfun=simfun, topN=k)\n",
    "    print(\"\\nlift=\", cfhits/randhits if randhits > 0 else \"-\",\n",
    "          \"cfhits=\", cfhits, \"randhits=\", randhits, \"totitemsrecommended=\",recsmade)\n",
    "    \n",
    "# lift for item-based CF\n",
    "for k in [5,10,50]:\n",
    "    cfhits, randhits, recsmade = computeLiftOverRandom(testevents, ratmatrix, uids, iids, alg = \"ii\", itemsims=itemsims, topN=k)\n",
    "    print(\"\\nlift=\", cfhits/randhits if randhits > 0 else \"-\",\n",
    "          \"cfhits=\", cfhits, \"randhits=\", randhits, \"totitemsrecommended=\",recsmade)"
   ]
  },
  {
   "source": [
    "## MovieLens"
   ],
   "cell_type": "markdown",
   "metadata": {}
  },
  {
   "cell_type": "code",
   "execution_count": 19,
   "metadata": {},
   "outputs": [
    {
     "output_type": "stream",
     "name": "stdout",
     "text": [
      "ratmatrix.shape: (943, 1682)\nsparsity(ratmatrix): 93.69533063577546\nratmatrix:\n [[ 5.  3.  4. ... nan nan nan]\n [ 4. nan nan ... nan nan nan]\n [nan nan nan ... nan nan nan]\n ...\n [ 5. nan nan ... nan nan nan]\n [nan nan nan ... nan nan nan]\n [nan  5. nan ... nan nan nan]]\n"
     ]
    }
   ],
   "source": [
    "trans = pd.read_csv(r'C:\\Users\\xBaka\\Notebooks\\School\\Day 7\\workshop2\\u_data.csv') # movielens 100K file (user and itemids start at 1)\n",
    "trans.drop('datetime',axis=1,inplace=True)\n",
    "ratmatrix, uids, iids = makeratingsmatrix(trans)\n",
    "print('ratmatrix.shape:', ratmatrix.shape)\n",
    "print('sparsity(ratmatrix):', sparsity(ratmatrix))\n",
    "print('ratmatrix:\\n', ratmatrix)"
   ]
  },
  {
   "cell_type": "code",
   "execution_count": 20,
   "metadata": {},
   "outputs": [
    {
     "output_type": "stream",
     "name": "stdout",
     "text": [
      "[[ 1.38970588 -0.61029412  0.38970588 -0.61029412 -0.61029412  1.38970588\n   0.38970588 -2.61029412  1.38970588 -0.61029412]\n [ 0.29032258         nan         nan         nan         nan         nan\n          nan         nan         nan -1.70967742]\n [        nan         nan         nan         nan         nan         nan\n          nan         nan         nan         nan]\n [        nan         nan         nan         nan         nan         nan\n          nan         nan         nan         nan]\n [ 1.12571429  0.12571429         nan         nan         nan         nan\n          nan         nan         nan         nan]\n [ 0.36492891         nan         nan         nan         nan         nan\n  -1.63507109  0.36492891  0.36492891         nan]\n [        nan         nan         nan  1.03473945         nan         nan\n   1.03473945  1.03473945  1.03473945  0.03473945]\n [        nan         nan         nan         nan         nan         nan\n  -0.79661017         nan         nan         nan]\n [        nan         nan         nan         nan         nan  0.72727273\n  -0.27272727         nan         nan         nan]\n [-0.20652174         nan         nan -0.20652174         nan         nan\n  -0.20652174         nan -0.20652174         nan]]\n"
     ]
    }
   ],
   "source": [
    "# lets try pre-normalising the data\n",
    "rowmeans = np.nanmean(ratmatrix,axis=1); rowmeans\n",
    "normratmatrix = ratmatrix.copy()\n",
    "for i in range(ratmatrix.shape[0]):  # iterate over rows\n",
    "    normratmatrix[i] = normratmatrix[i] - rowmeans[i]\n",
    "head(normratmatrix)"
   ]
  },
  {
   "cell_type": "code",
   "execution_count": 21,
   "metadata": {},
   "outputs": [
    {
     "output_type": "execute_result",
     "data": {
      "text/plain": [
       "      predrating\n",
       "1467         5.0\n",
       "1201         5.0\n",
       "814          5.0\n",
       "1358         5.0\n",
       "1367         5.0"
      ],
      "text/html": "<div>\n<style scoped>\n    .dataframe tbody tr th:only-of-type {\n        vertical-align: middle;\n    }\n\n    .dataframe tbody tr th {\n        vertical-align: top;\n    }\n\n    .dataframe thead th {\n        text-align: right;\n    }\n</style>\n<table border=\"1\" class=\"dataframe\">\n  <thead>\n    <tr style=\"text-align: right;\">\n      <th></th>\n      <th>predrating</th>\n    </tr>\n  </thead>\n  <tbody>\n    <tr>\n      <th>1467</th>\n      <td>5.0</td>\n    </tr>\n    <tr>\n      <th>1201</th>\n      <td>5.0</td>\n    </tr>\n    <tr>\n      <th>814</th>\n      <td>5.0</td>\n    </tr>\n    <tr>\n      <th>1358</th>\n      <td>5.0</td>\n    </tr>\n    <tr>\n      <th>1367</th>\n      <td>5.0</td>\n    </tr>\n  </tbody>\n</table>\n</div>"
     },
     "metadata": {},
     "execution_count": 21
    }
   ],
   "source": [
    "# select any user at random to make recommendations to, e.g.:\n",
    "targetname = 10 # a movielens user\n",
    "targetrats = ratmatrix[uids[targetname],] \n",
    "uurecs = getRecommendations_UU(targetrats, ratmatrix, iids, simfun=pearsonsim, topN = 20)\n",
    "uurecs.head()"
   ]
  },
  {
   "cell_type": "code",
   "execution_count": 22,
   "metadata": {},
   "outputs": [
    {
     "output_type": "stream",
     "name": "stdout",
     "text": [
      "rat=5.00, movie=1467, Cure, The (1995)\nrat=5.00, movie=1201, Maybe, Maybe Not (Bewegte Mann, Der) (1994)\nrat=5.00, movie=814, One Fine Day (1996)\nrat=5.00, movie=1358, Boys in Venice (1996)\nrat=5.00, movie=1367, Mina Tannenbaum (1994)\nrat=5.00, movie=1599, Guantanamera (1994)\nrat=5.00, movie=1500, Prisoner of the Mountains (Kavkazsky Plennik) (1996)\nrat=5.00, movie=1189, That Old Feeling (1997)\nrat=5.00, movie=1122, Last Time I Saw Paris, The (1954)\nrat=5.00, movie=1656, Target (1995)\nrat=5.00, movie=1536, Cosi (1996)\nrat=5.00, movie=1293, Ayn Rand: A Sense of Life (1997)\nrat=4.72, movie=1026, Shooter, The (1995)\nrat=4.63, movie=1463, Stars Fell on Henrietta, The (1995)\nrat=4.61, movie=1449, Golden Earrings (1947)\nrat=4.58, movie=114, Haunted World of Edward D. Wood Jr., The (1995)\nrat=4.56, movie=884, Phantoms (1998)\nrat=4.53, movie=408, Jack (1996)\nrat=4.52, movie=318, Everyone Says I Love You (1996)\nrat=4.49, movie=1398, Stranger in the House (1997)\n"
     ]
    }
   ],
   "source": [
    "# to view the recommended movie names\n",
    "titles = pd.read_csv(r'C:\\Users\\xBaka\\Notebooks\\School\\Day 7\\workshop2\\u_item.csv') # movielens 100K file (user and itemids start at 1)\n",
    "for i in uurecs.index: \n",
    "    print(\"rat=%2.2f, movie=%d, %s\" % (uurecs['predrating'][i], i, titles['movie name'][i]))"
   ]
  },
  {
   "cell_type": "code",
   "execution_count": 23,
   "metadata": {},
   "outputs": [
    {
     "output_type": "display_data",
     "data": {
      "text/plain": "HBox(children=(HTML(value=''), FloatProgress(value=0.0, max=1682.0), HTML(value='')))",
      "application/vnd.jupyter.widget-view+json": {
       "version_major": 2,
       "version_minor": 0,
       "model_id": "fb6df3f59b734d87913f52c606a13679"
      }
     },
     "metadata": {}
    },
    {
     "output_type": "stream",
     "name": "stdout",
     "text": [
      "\n"
     ]
    },
    {
     "output_type": "execute_result",
     "data": {
      "text/plain": [
       "      predrating\n",
       "1493    4.281941\n",
       "1486    4.281941\n",
       "1494    4.281941\n",
       "1500    4.258175\n",
       "1095    4.257486\n",
       "397     4.253947\n",
       "146     4.252602\n",
       "1250    4.248899\n",
       "1491    4.248078\n",
       "1151    4.247126\n",
       "1501    4.243632\n",
       "1321    4.242445\n",
       "1080    4.238855\n",
       "1361    4.238521\n",
       "1380    4.237614\n",
       "1323    4.236735\n",
       "1239    4.236144\n",
       "408     4.235447\n",
       "1242    4.234976\n",
       "456     4.233502"
      ],
      "text/html": "<div>\n<style scoped>\n    .dataframe tbody tr th:only-of-type {\n        vertical-align: middle;\n    }\n\n    .dataframe tbody tr th {\n        vertical-align: top;\n    }\n\n    .dataframe thead th {\n        text-align: right;\n    }\n</style>\n<table border=\"1\" class=\"dataframe\">\n  <thead>\n    <tr style=\"text-align: right;\">\n      <th></th>\n      <th>predrating</th>\n    </tr>\n  </thead>\n  <tbody>\n    <tr>\n      <th>1493</th>\n      <td>4.281941</td>\n    </tr>\n    <tr>\n      <th>1486</th>\n      <td>4.281941</td>\n    </tr>\n    <tr>\n      <th>1494</th>\n      <td>4.281941</td>\n    </tr>\n    <tr>\n      <th>1500</th>\n      <td>4.258175</td>\n    </tr>\n    <tr>\n      <th>1095</th>\n      <td>4.257486</td>\n    </tr>\n    <tr>\n      <th>397</th>\n      <td>4.253947</td>\n    </tr>\n    <tr>\n      <th>146</th>\n      <td>4.252602</td>\n    </tr>\n    <tr>\n      <th>1250</th>\n      <td>4.248899</td>\n    </tr>\n    <tr>\n      <th>1491</th>\n      <td>4.248078</td>\n    </tr>\n    <tr>\n      <th>1151</th>\n      <td>4.247126</td>\n    </tr>\n    <tr>\n      <th>1501</th>\n      <td>4.243632</td>\n    </tr>\n    <tr>\n      <th>1321</th>\n      <td>4.242445</td>\n    </tr>\n    <tr>\n      <th>1080</th>\n      <td>4.238855</td>\n    </tr>\n    <tr>\n      <th>1361</th>\n      <td>4.238521</td>\n    </tr>\n    <tr>\n      <th>1380</th>\n      <td>4.237614</td>\n    </tr>\n    <tr>\n      <th>1323</th>\n      <td>4.236735</td>\n    </tr>\n    <tr>\n      <th>1239</th>\n      <td>4.236144</td>\n    </tr>\n    <tr>\n      <th>408</th>\n      <td>4.235447</td>\n    </tr>\n    <tr>\n      <th>1242</th>\n      <td>4.234976</td>\n    </tr>\n    <tr>\n      <th>456</th>\n      <td>4.233502</td>\n    </tr>\n  </tbody>\n</table>\n</div>"
     },
     "metadata": {},
     "execution_count": 23
    }
   ],
   "source": [
    "# to make recommendations using item-based CF\n",
    "itemsims = getitemsimsmatrix(ratmatrix, simfun=euclidsim) # takes ~ 20-30secs\n",
    "iirecs = getRecommendations_II(targetrats, itemsims, iids, topN = 20)\n",
    "iirecs"
   ]
  },
  {
   "cell_type": "code",
   "execution_count": 24,
   "metadata": {},
   "outputs": [],
   "source": [
    "#----------------------\n",
    "# An interesting aside:\n",
    "# how many of the topN recommendations from user-based CF are also in the topN from item-based CF? \n",
    "# To compute this we convert the recommended items into sets and compute the intersection, e.g.\n",
    "uuset = set(uurecs.index)\n",
    "iiset = set(iirecs.index)\n",
    "uuset.intersection(iiset) # this shows the set of users (userindexes) who are in the topN list for both UU and II recommendations\n",
    "# Note1: a bigger value for top N is more likely to result in a bigger intersection.\n",
    "# Note2: an item does not have to be in both the UU and II sets to be a good recommendation - any of the items in the union\n",
    "# of the UU and II recommendations are potentially good recommendations.\n",
    "#---------------------\n",
    "\n",
    "# Now proceed as before to create train/test sets and to compute MAE using user-based & item-based CF\n",
    "# and to explore performance of the various similarity measures.\n",
    "# Normally we would make the testset ~ 10%-30% of the total data, e.g. testsize = int(0.8*len(trans))\n",
    "# but since demolib is slow we keep the #testevents small, e.g. 200\n",
    "# If your PC is fast then you can make this larger for more accurate testing (or if your PC is very slow then make it smaller)\n",
    "testsize = int(0.01*len(trans))\n",
    "testevents = trans.sample(n=testsize).values.tolist()\n",
    "\n",
    "# Note: for item-based CF, remember to compute the item similarity matrix ONLY AFTER the testevents have been blanked out (deleted) in the ratings matrix"
   ]
  },
  {
   "cell_type": "code",
   "execution_count": 25,
   "metadata": {},
   "outputs": [],
   "source": [
    "# # blank out the testset ratings in the ratings matrix - this now becomes our training data\n",
    "# for (uname,iname,rating) in testevents: \n",
    "#     ratmatrix[uids[uname],iids[iname]] = np.nan\n",
    "\n",
    "# # execute the test function in demolib to make ratings predictions for the test events and obtain the prediction errors\n",
    "# # note: to desplay progress, this function prints a \".\" for every testevent processed\n",
    "# for simfun in [pearsonsim, cosinesim, euclidsim]:\n",
    "#     errs = computeErrs_UU(testevents, ratmatrix, uids, iids, simfun=simfun)\n",
    "#     print(np.nanmean(abs(errs)))"
   ]
  },
  {
   "cell_type": "code",
   "execution_count": 26,
   "metadata": {},
   "outputs": [],
   "source": [
    "# # calc the item similarity matrix\n",
    "# # try using each of these in turn\n",
    "# simfun = euclidsim\n",
    "# # simfun = cosinesim\n",
    "\n",
    "# tic = time.perf_counter()\n",
    "# itemsims = getitemsimsmatrix(ratmatrix, simfun = simfun)\n",
    "# print(f\"time {time.perf_counter() - tic:0.4f} seconds\")\n",
    "\n",
    "# errs = computeErrs_II(testevents, ratmatrix, uids, iids, itemsims)\n",
    "# np.nanmean(abs(errs))"
   ]
  },
  {
   "cell_type": "code",
   "execution_count": 27,
   "metadata": {},
   "outputs": [],
   "source": [
    "# # compute percentage rank for each test event \n",
    "# # (% position of test event in the list of unseen items ranked descending by their predicted rating, a low % position is good)\n",
    "# prs = computePercentageRanking(testevents, ratmatrix, uids, iids, simfun=cosinesim) #  user-based\n",
    "# np.nanmean(abs(prs))"
   ]
  },
  {
   "cell_type": "code",
   "execution_count": 28,
   "metadata": {},
   "outputs": [],
   "source": [
    "# prs = computePercentageRanking(testevents, ratmatrix, uids, iids, itemsims=itemsims) # item-based (since item sim.matrix is supplied)\n",
    "# np.nanmean(abs(prs))"
   ]
  },
  {
   "cell_type": "code",
   "execution_count": 29,
   "metadata": {},
   "outputs": [],
   "source": [
    "# # compute lift over random, where lift = (#hits using CF)/(#hits using random)\n",
    "# # Note: small values of topN may not yield any hits , hence below we try a range of values for topN\n",
    "# # Also note that for bigger values of topN the lift over random is expected to be smaller\n",
    "\n",
    "# # lift for user-based CF\n",
    "# for k in [5,10,50]:\n",
    "#     cfhits, randhits, recsmade = computeLiftOverRandom(testevents, ratmatrix, uids, iids, alg = \"uu\", simfun=simfun, topN=k)\n",
    "#     print(\"\\nlift=\", cfhits/randhits if randhits > 0 else \"-\",\n",
    "#           \"cfhits=\", cfhits, \"randhits=\", randhits, \"totitemsrecommended=\",recsmade)\n",
    "    \n",
    "# # lift for item-based CF\n",
    "# for k in [5,10,50]:\n",
    "#     cfhits, randhits, recsmade = computeLiftOverRandom(testevents, ratmatrix, uids, iids, alg = \"ii\", itemsims=itemsims, topN=k)\n",
    "#     print(\"\\nlift=\", cfhits/randhits if randhits > 0 else \"-\",\n",
    "#           \"cfhits=\", cfhits, \"randhits=\", randhits, \"totitemsrecommended=\",recsmade)"
   ]
  },
  {
   "source": [
    "## Jester"
   ],
   "cell_type": "markdown",
   "metadata": {}
  },
  {
   "cell_type": "code",
   "execution_count": 53,
   "metadata": {},
   "outputs": [
    {
     "output_type": "stream",
     "name": "stdout",
     "text": [
      "(59132, 140)\n78.72268822295881\n[[   nan -9.281 -9.281 -6.781  0.875 -9.656 -9.031 -7.469 -8.719 -9.156]\n [-9.688  9.938  9.531  9.938  0.406  3.719  9.656 -2.688 -9.562 -9.125]\n [-9.844 -9.844 -7.219 -2.031 -9.938 -9.969 -9.875 -9.812 -9.781 -6.844]\n [-5.812 -4.5   -4.906    nan    nan    nan    nan    nan    nan    nan]\n [ 6.906  4.75  -5.906 -0.406 -4.031  3.875  6.219  5.656  6.094  5.406]\n [-0.031 -9.094 -0.406  7.5   -7.219 -9.438  0.125 -9.156  3.656 -9.438]\n [-2.906 -2.344 -0.5   -0.969  2.25   0.406  0.875  0.406  1.438 -0.031]\n [ 6.219 -7.438 -0.812 -3.438  0.531  0.531  2.344 -2.219 -4.531  2.281]\n [ 8.25   9.     8.875  9.75   9.375  9.219  9.031  8.844 -9.531 -5.938]\n [-5.75   0.281  0.781  8.281  3.594 -3.844  0.844 -6.312  3.375  6.594]]\nNone\n"
     ]
    }
   ],
   "source": [
    "# dataset2\n",
    "trans = pd.read_csv(r\"C:\\Users\\xBaka\\Notebooks\\School\\Day 7\\workshop2\\jester_ratings.dat\", sep='\\s+',header=0)\n",
    "ratmatrix, uids, iids = makeratingsmatrix(trans)\n",
    "print(ratmatrix.shape)\n",
    "print(sparsity(ratmatrix)) # show % that is empty\n",
    "print(head(ratmatrix))\n",
    "\n",
    "# testsize = 100 # for UU keep small, but can increase if you have a fast PC\n",
    "# testsize = 10000 # for II it can be much larger\n",
    "\n",
    "# Proceed as above to create train/test sets and to compute MAE using user-based & item-based CF\n",
    "# and to explore performance of the various similarity measures.\n",
    "# Note: pearsonsim may be too slow to test for this dataset but cosinesim and euclidsim should be ok\n",
    "# What MAE is acceptable given that the ratings range -10->10 is much larger than movielens 1->5 ?\n",
    "\n",
    "#########################################################\n",
    "# book crossings dataset (optional: if time permits)\n",
    "#\n",
    "# This dataset is too big to fit into memory in a uncompressed (non-sparse) matrix format\n",
    "# Instead we proceed by data sampling: selecting only the most popular books and the most active users\n",
    "#########################################################"
   ]
  },
  {
   "cell_type": "code",
   "execution_count": 54,
   "metadata": {},
   "outputs": [],
   "source": [
    "#----------------------\n",
    "# An interesting aside:\n",
    "# how many of the topN recommendations from user-based CF are also in the topN from item-based CF? \n",
    "# To compute this we convert the recommended items into sets and compute the intersection, e.g.\n",
    "uuset = set(uurecs.index)\n",
    "iiset = set(iirecs.index)\n",
    "uuset.intersection(iiset) # this shows the set of users (userindexes) who are in the topN list for both UU and II recommendations\n",
    "# Note1: a bigger value for top N is more likely to result in a bigger intersection.\n",
    "# Note2: an item does not have to be in both the UU and II sets to be a good recommendation - any of the items in the union\n",
    "# of the UU and II recommendations are potentially good recommendations.\n",
    "#---------------------\n",
    "\n",
    "# Now proceed as before to create train/test sets and to compute MAE using user-based & item-based CF\n",
    "# and to explore performance of the various similarity measures.\n",
    "# Normally we would make the testset ~ 10%-30% of the total data, e.g. testsize = int(0.8*len(trans))\n",
    "# but since demolib is slow we keep the #testevents small, e.g. 200\n",
    "# If your PC is fast then you can make this larger for more accurate testing (or if your PC is very slow then make it smaller)\n",
    "testsize = 10000\n",
    "testevents = trans.sample(n=testsize).values.tolist()\n",
    "# Note: for item-based CF, remember to compute the item similarity matrix ONLY AFTER the testevents have been blanked out (deleted) in the ratings matrix"
   ]
  },
  {
   "cell_type": "code",
   "execution_count": 55,
   "metadata": {},
   "outputs": [],
   "source": [
    "# blank out the testset ratings in the ratings matrix - this now becomes our training data\n",
    "for (uname,iname,rating) in testevents: \n",
    "    ratmatrix[uids[uname],iids[iname]] = np.nan\n",
    "\n",
    "# execute the test function in demolib to make ratings predictions for the test events and obtain the prediction errors\n",
    "# note: to desplay progress, this function prints a \".\" for every testevent processed\n",
    "# for simfun in [pearsonsim, cosinesim, euclidsim]:\n",
    "#     errs = computeErrs_UU(testevents, ratmatrix, uids, iids, simfun=simfun)\n",
    "#     print(np.nanmean(abs(errs)))"
   ]
  },
  {
   "cell_type": "code",
   "execution_count": 56,
   "metadata": {},
   "outputs": [
    {
     "output_type": "display_data",
     "data": {
      "text/plain": "HBox(children=(HTML(value=''), FloatProgress(value=0.0, max=140.0), HTML(value='')))",
      "application/vnd.jupyter.widget-view+json": {
       "version_major": 2,
       "version_minor": 0,
       "model_id": "6467acc82729434db0f9eedab9689fad"
      }
     },
     "metadata": {}
    },
    {
     "output_type": "stream",
     "name": "stdout",
     "text": [
      "\ntime 38.0568 seconds\n"
     ]
    }
   ],
   "source": [
    "# calc the item similarity matrix\n",
    "simfun = cosinesim\n",
    "# simfun = euclidsim\n",
    "\n",
    "tic = time.perf_counter()\n",
    "itemsims = getitemsimsmatrix(ratmatrix, simfun = simfun)\n",
    "print(f\"time {time.perf_counter() - tic:0.4f} seconds\")"
   ]
  },
  {
   "cell_type": "code",
   "execution_count": 47,
   "metadata": {},
   "outputs": [
    {
     "output_type": "display_data",
     "data": {
      "text/plain": "HBox(children=(HTML(value=''), FloatProgress(value=0.0, max=140.0), HTML(value='')))",
      "application/vnd.jupyter.widget-view+json": {
       "version_major": 2,
       "version_minor": 0,
       "model_id": "4da44ee8f5434a3fa966308af11316b9"
      }
     },
     "metadata": {}
    },
    {
     "output_type": "stream",
     "name": "stdout",
     "text": [
      "\ntime 38.6244 seconds\n"
     ]
    },
    {
     "output_type": "display_data",
     "data": {
      "text/plain": "HBox(children=(HTML(value=''), FloatProgress(value=0.0), HTML(value='')))",
      "application/vnd.jupyter.widget-view+json": {
       "version_major": 2,
       "version_minor": 0,
       "model_id": "83b384a2bf7b4559b6ef708c507b7aa9"
      }
     },
     "metadata": {}
    },
    {
     "output_type": "stream",
     "name": "stdout",
     "text": [
      "\n"
     ]
    },
    {
     "output_type": "display_data",
     "data": {
      "text/plain": "HBox(children=(HTML(value=''), FloatProgress(value=0.0, max=140.0), HTML(value='')))",
      "application/vnd.jupyter.widget-view+json": {
       "version_major": 2,
       "version_minor": 0,
       "model_id": "dc0b5423b9b74580a4c15b7f3a431bf1"
      }
     },
     "metadata": {}
    },
    {
     "output_type": "stream",
     "name": "stdout",
     "text": [
      "\ntime 15.7537 seconds\n"
     ]
    },
    {
     "output_type": "display_data",
     "data": {
      "text/plain": "HBox(children=(HTML(value=''), FloatProgress(value=0.0), HTML(value='')))",
      "application/vnd.jupyter.widget-view+json": {
       "version_major": 2,
       "version_minor": 0,
       "model_id": "b74a8518b5df48a9a5d029a29730ef10"
      }
     },
     "metadata": {}
    },
    {
     "output_type": "stream",
     "name": "stdout",
     "text": [
      "\n"
     ]
    }
   ],
   "source": [
    "errs = computeErrs_II(testevents, ratmatrix, uids, iids, itemsims)\n",
    "print(np.nanmean(abs(errs)))"
   ]
  },
  {
   "cell_type": "code",
   "execution_count": 52,
   "metadata": {},
   "outputs": [
    {
     "output_type": "display_data",
     "data": {
      "text/plain": "HBox(children=(HTML(value=''), FloatProgress(value=0.0), HTML(value='')))",
      "application/vnd.jupyter.widget-view+json": {
       "version_major": 2,
       "version_minor": 0,
       "model_id": "c891efaddff94a20b9901e2155064a96"
      }
     },
     "metadata": {}
    },
    {
     "output_type": "stream",
     "name": "stdout",
     "text": [
      "\n40.342025995514206\n"
     ]
    },
    {
     "output_type": "display_data",
     "data": {
      "text/plain": "HBox(children=(HTML(value=''), FloatProgress(value=0.0), HTML(value='')))",
      "application/vnd.jupyter.widget-view+json": {
       "version_major": 2,
       "version_minor": 0,
       "model_id": "abc2a427925a491fab6629d2e8e89967"
      }
     },
     "metadata": {}
    },
    {
     "output_type": "stream",
     "name": "stdout",
     "text": [
      "\n39.52860192009609\n"
     ]
    }
   ],
   "source": [
    "# compute percentage rank for each test event \n",
    "# (% position of test event in the list of unseenitems ranked descending by their predicted rating, a low % position is good)\n",
    "for i, simfun in zip([\"cosinesim\", \"euclidsim\"], [cosinesim, euclidsim]):\n",
    "    print(i)\n",
    "    prs = computePercentageRanking(testevents, ratmatrix, uids, iids, simfun=simfun) #  user-based\n",
    "    print(\"Percentage ranking (User-based):\", np.nanmean(abs(prs)))"
   ]
  },
  {
   "cell_type": "code",
   "execution_count": 64,
   "metadata": {},
   "outputs": [
    {
     "output_type": "stream",
     "name": "stdout",
     "text": [
      "cosinesim\n"
     ]
    },
    {
     "output_type": "display_data",
     "data": {
      "text/plain": "HBox(children=(HTML(value=''), FloatProgress(value=0.0, max=140.0), HTML(value='')))",
      "application/vnd.jupyter.widget-view+json": {
       "version_major": 2,
       "version_minor": 0,
       "model_id": "bc38a998fa8546ceb2bfcc05d2aba939"
      }
     },
     "metadata": {}
    },
    {
     "output_type": "stream",
     "name": "stdout",
     "text": [
      "\n"
     ]
    },
    {
     "output_type": "display_data",
     "data": {
      "text/plain": "HBox(children=(HTML(value=''), FloatProgress(value=0.0, max=10000.0), HTML(value='')))",
      "application/vnd.jupyter.widget-view+json": {
       "version_major": 2,
       "version_minor": 0,
       "model_id": "3b62e08d020d4e8a927aa4eeec614eb6"
      }
     },
     "metadata": {}
    },
    {
     "output_type": "stream",
     "name": "stdout",
     "text": [
      "\nPercentage ranking (Item-based): 41.02973244642595\neuclidsim\n"
     ]
    },
    {
     "output_type": "display_data",
     "data": {
      "text/plain": "HBox(children=(HTML(value=''), FloatProgress(value=0.0, max=140.0), HTML(value='')))",
      "application/vnd.jupyter.widget-view+json": {
       "version_major": 2,
       "version_minor": 0,
       "model_id": "5571d66fd9124a09bee3087973ef7940"
      }
     },
     "metadata": {}
    },
    {
     "output_type": "stream",
     "name": "stdout",
     "text": [
      "\n"
     ]
    },
    {
     "output_type": "display_data",
     "data": {
      "text/plain": "HBox(children=(HTML(value=''), FloatProgress(value=0.0, max=10000.0), HTML(value='')))",
      "application/vnd.jupyter.widget-view+json": {
       "version_major": 2,
       "version_minor": 0,
       "model_id": "6c3d0522e257461f86583f66b86ca5ff"
      }
     },
     "metadata": {}
    },
    {
     "output_type": "stream",
     "name": "stdout",
     "text": [
      "\nPercentage ranking (Item-based): 43.28834646048366\n"
     ]
    }
   ],
   "source": [
    "for i, simfun in zip([\"cosinesim\", \"euclidsim\"], [cosinesim, euclidsim]):\n",
    "    print(i)\n",
    "    itemsims = getitemsimsmatrix(ratmatrix, simfun = simfun)\n",
    "    prs = computePercentageRanking(testevents, ratmatrix, uids, iids, itemsims=itemsims) # item-based (since item sim.matrix is supplied)\n",
    "    print(\"Percentage ranking (Item-based):\", np.nanmean(abs(prs)))"
   ]
  },
  {
   "cell_type": "code",
   "execution_count": 63,
   "metadata": {},
   "outputs": [
    {
     "output_type": "display_data",
     "data": {
      "text/plain": "HBox(children=(HTML(value=''), FloatProgress(value=0.0, max=140.0), HTML(value='')))",
      "application/vnd.jupyter.widget-view+json": {
       "version_major": 2,
       "version_minor": 0,
       "model_id": "58212a0dcada4b44a7360de47ce72175"
      }
     },
     "metadata": {}
    },
    {
     "output_type": "stream",
     "name": "stdout",
     "text": [
      "\ncosinesim\n"
     ]
    },
    {
     "output_type": "display_data",
     "data": {
      "text/plain": "HBox(children=(HTML(value=''), FloatProgress(value=0.0, max=10000.0), HTML(value='')))",
      "application/vnd.jupyter.widget-view+json": {
       "version_major": 2,
       "version_minor": 0,
       "model_id": "270e11e848f340d78196095008a12571"
      }
     },
     "metadata": {}
    },
    {
     "output_type": "stream",
     "name": "stdout",
     "text": [
      "\n\nlift= 2.131259484066768 cfhits= 2809 randhits= 1318 totitemsrecommended= 49976\n"
     ]
    },
    {
     "output_type": "display_data",
     "data": {
      "text/plain": "HBox(children=(HTML(value=''), FloatProgress(value=0.0, max=10000.0), HTML(value='')))",
      "application/vnd.jupyter.widget-view+json": {
       "version_major": 2,
       "version_minor": 0,
       "model_id": "9b4dc5c92bf943d48ede7fb235401f05"
      }
     },
     "metadata": {}
    },
    {
     "output_type": "stream",
     "name": "stdout",
     "text": [
      "\n\nlift= 1.7652240520873228 cfhits= 4609 randhits= 2611 totitemsrecommended= 99926\n"
     ]
    },
    {
     "output_type": "display_data",
     "data": {
      "text/plain": "HBox(children=(HTML(value=''), FloatProgress(value=0.0, max=10000.0), HTML(value='')))",
      "application/vnd.jupyter.widget-view+json": {
       "version_major": 2,
       "version_minor": 0,
       "model_id": "1a26e6ba3b0c4c96aefe4fc4b0ec273f"
      }
     },
     "metadata": {}
    },
    {
     "output_type": "stream",
     "name": "stdout",
     "text": [
      "\n\nlift= 1.1181286549707603 cfhits= 7648 randhits= 6840 totitemsrecommended= 406757\n"
     ]
    },
    {
     "output_type": "display_data",
     "data": {
      "text/plain": "HBox(children=(HTML(value=''), FloatProgress(value=0.0, max=140.0), HTML(value='')))",
      "application/vnd.jupyter.widget-view+json": {
       "version_major": 2,
       "version_minor": 0,
       "model_id": "b24710984e084d07aef6df67d5a4f777"
      }
     },
     "metadata": {}
    },
    {
     "output_type": "stream",
     "name": "stdout",
     "text": [
      "\neuclidsim\n"
     ]
    },
    {
     "output_type": "display_data",
     "data": {
      "text/plain": "HBox(children=(HTML(value=''), FloatProgress(value=0.0, max=10000.0), HTML(value='')))",
      "application/vnd.jupyter.widget-view+json": {
       "version_major": 2,
       "version_minor": 0,
       "model_id": "2b74baae91e0481c8af6d6cf3ace1c1b"
      }
     },
     "metadata": {}
    },
    {
     "output_type": "stream",
     "name": "stdout",
     "text": [
      "\n\nlift= 1.245311327831958 cfhits= 1660 randhits= 1333 totitemsrecommended= 49976\n"
     ]
    },
    {
     "output_type": "display_data",
     "data": {
      "text/plain": "HBox(children=(HTML(value=''), FloatProgress(value=0.0, max=10000.0), HTML(value='')))",
      "application/vnd.jupyter.widget-view+json": {
       "version_major": 2,
       "version_minor": 0,
       "model_id": "7ded1acfba7140cea29372a478952ad2"
      }
     },
     "metadata": {}
    },
    {
     "output_type": "stream",
     "name": "stdout",
     "text": [
      "\n\nlift= 1.1171417415072238 cfhits= 2861 randhits= 2561 totitemsrecommended= 99926\n"
     ]
    },
    {
     "output_type": "display_data",
     "data": {
      "text/plain": "HBox(children=(HTML(value=''), FloatProgress(value=0.0, max=10000.0), HTML(value='')))",
      "application/vnd.jupyter.widget-view+json": {
       "version_major": 2,
       "version_minor": 0,
       "model_id": "c971161e6dee417ba91f6c77de501154"
      }
     },
     "metadata": {}
    },
    {
     "output_type": "stream",
     "name": "stdout",
     "text": [
      "\n\nlift= 1.1809679334916865 cfhits= 7955 randhits= 6736 totitemsrecommended= 406757\n"
     ]
    }
   ],
   "source": [
    "# compute lift over random, where lift = (#hits using CF)/(#hits using random)\n",
    "# Note: small values of topN may not yield any hits , hence below we try a range of values for topN\n",
    "# Also note that for bigger values of topN the lift over random is expected to be smaller\n",
    "\n",
    "for i, simfun in zip([\"cosinesim\", \"euclidsim\"], [cosinesim, euclidsim]):\n",
    "    print(\"simfun:\", i)\n",
    "    itemsims = getitemsimsmatrix(ratmatrix, simfun = simfun)\n",
    "    \n",
    "    # # lift for user-based CF\n",
    "    # for k in [5,10,50]:\n",
    "    #     cfhits, randhits, recsmade = computeLiftOverRandom(testevents, ratmatrix, uids, iids, alg = \"uu\", simfun=simfun, topN=k)\n",
    "    #     print(\"\\nlift=\", cfhits/randhits if randhits > 0 else \"-\",\n",
    "    #         \"cfhits=\", cfhits, \"randhits=\", randhits, \"totitemsrecommended=\",recsmade)\n",
    "        \n",
    "    # lift for item-based CF\n",
    "    for k in [5,10,50]:\n",
    "        cfhits, randhits, recsmade = computeLiftOverRandom(testevents, ratmatrix, uids, iids, alg = \"ii\", itemsims=itemsims, topN=k)\n",
    "        print(\"\\nlift=\", cfhits/randhits if randhits > 0 else \"-\",\n",
    "            \"cfhits=\", cfhits, \"randhits=\", randhits, \"totitemsrecommended=\",recsmade)"
   ]
  },
  {
   "source": [
    "### Book Crossing"
   ],
   "cell_type": "markdown",
   "metadata": {}
  },
  {
   "cell_type": "code",
   "execution_count": 87,
   "metadata": {},
   "outputs": [
    {
     "output_type": "execute_result",
     "data": {
      "text/plain": [
       "(1149780, 3)"
      ]
     },
     "metadata": {},
     "execution_count": 87
    }
   ],
   "source": [
    "trans = pd.read_csv(r\"C:\\Users\\xBaka\\Notebooks\\School\\Day 7\\workshop2\\BX-Book-Ratings.csv\", sep=';', error_bad_lines=False, encoding=\"latin-1\")\n",
    "trans.columns = ['user','item','rating']\n",
    "trans.shape"
   ]
  },
  {
   "cell_type": "code",
   "execution_count": 88,
   "metadata": {},
   "outputs": [
    {
     "output_type": "execute_result",
     "data": {
      "text/plain": [
       "(433671, 3)"
      ]
     },
     "metadata": {},
     "execution_count": 88
    }
   ],
   "source": [
    "# remove implicit ratings\n",
    "trans = trans[trans.rating != 0]\n",
    "trans.shape"
   ]
  },
  {
   "cell_type": "code",
   "execution_count": 89,
   "metadata": {},
   "outputs": [
    {
     "output_type": "execute_result",
     "data": {
      "text/plain": [
       "           user         item  rating\n",
       "1        276726   0155061224       5\n",
       "3        276729   052165615X       3\n",
       "4        276729   0521795028       6\n",
       "6        276736   3257224281       8\n",
       "7        276737   0600570967       6\n",
       "...         ...          ...     ...\n",
       "1149773  276704   0806917695       5\n",
       "1149775  276704   1563526298       9\n",
       "1149777  276709   0515107662      10\n",
       "1149778  276721   0590442449      10\n",
       "1149779  276723  05162443314       8\n",
       "\n",
       "[433671 rows x 3 columns]"
      ],
      "text/html": "<div>\n<style scoped>\n    .dataframe tbody tr th:only-of-type {\n        vertical-align: middle;\n    }\n\n    .dataframe tbody tr th {\n        vertical-align: top;\n    }\n\n    .dataframe thead th {\n        text-align: right;\n    }\n</style>\n<table border=\"1\" class=\"dataframe\">\n  <thead>\n    <tr style=\"text-align: right;\">\n      <th></th>\n      <th>user</th>\n      <th>item</th>\n      <th>rating</th>\n    </tr>\n  </thead>\n  <tbody>\n    <tr>\n      <th>1</th>\n      <td>276726</td>\n      <td>0155061224</td>\n      <td>5</td>\n    </tr>\n    <tr>\n      <th>3</th>\n      <td>276729</td>\n      <td>052165615X</td>\n      <td>3</td>\n    </tr>\n    <tr>\n      <th>4</th>\n      <td>276729</td>\n      <td>0521795028</td>\n      <td>6</td>\n    </tr>\n    <tr>\n      <th>6</th>\n      <td>276736</td>\n      <td>3257224281</td>\n      <td>8</td>\n    </tr>\n    <tr>\n      <th>7</th>\n      <td>276737</td>\n      <td>0600570967</td>\n      <td>6</td>\n    </tr>\n    <tr>\n      <th>...</th>\n      <td>...</td>\n      <td>...</td>\n      <td>...</td>\n    </tr>\n    <tr>\n      <th>1149773</th>\n      <td>276704</td>\n      <td>0806917695</td>\n      <td>5</td>\n    </tr>\n    <tr>\n      <th>1149775</th>\n      <td>276704</td>\n      <td>1563526298</td>\n      <td>9</td>\n    </tr>\n    <tr>\n      <th>1149777</th>\n      <td>276709</td>\n      <td>0515107662</td>\n      <td>10</td>\n    </tr>\n    <tr>\n      <th>1149778</th>\n      <td>276721</td>\n      <td>0590442449</td>\n      <td>10</td>\n    </tr>\n    <tr>\n      <th>1149779</th>\n      <td>276723</td>\n      <td>05162443314</td>\n      <td>8</td>\n    </tr>\n  </tbody>\n</table>\n<p>433671 rows × 3 columns</p>\n</div>"
     },
     "metadata": {},
     "execution_count": 89
    }
   ],
   "source": [
    "trans"
   ]
  },
  {
   "cell_type": "code",
   "execution_count": 68,
   "metadata": {},
   "outputs": [],
   "source": [
    "# this fails since expanded ratings matrix is too big to fit into memory\n",
    "# ratmatrix, uids, iids = makeratingsmatrix(trans)"
   ]
  },
  {
   "cell_type": "code",
   "execution_count": 90,
   "metadata": {},
   "outputs": [
    {
     "output_type": "execute_result",
     "data": {
      "text/plain": [
       "5645"
      ]
     },
     "metadata": {},
     "execution_count": 90
    }
   ],
   "source": [
    "# reduce dataset size by sampling\n",
    "min_item_ratings = 10 # book popularity threshold \n",
    "popular_items = trans['item'].value_counts() >= min_item_ratings\n",
    "popular_items = popular_items[popular_items].index.tolist(); len(popular_items)  # get list of popular items"
   ]
  },
  {
   "cell_type": "code",
   "execution_count": 91,
   "metadata": {},
   "outputs": [
    {
     "output_type": "execute_result",
     "data": {
      "text/plain": [
       "7334"
      ]
     },
     "metadata": {},
     "execution_count": 91
    }
   ],
   "source": [
    "min_user_ratings = 10 # user activity threshold\n",
    "active_users = trans['user'].value_counts() >= min_user_ratings\n",
    "active_users = active_users[active_users].index.tolist(); len(active_users) # get list of active users"
   ]
  },
  {
   "cell_type": "code",
   "execution_count": 92,
   "metadata": {},
   "outputs": [
    {
     "output_type": "stream",
     "name": "stdout",
     "text": [
      "original data:  (433671, 3)\ndata after filtering:  (90557, 3)\n"
     ]
    }
   ],
   "source": [
    "print('original data: ',trans.shape)\n",
    "trans = trans[(trans['item'].isin(popular_items)) & (trans['user'].isin(active_users))] # apply the filter\n",
    "print('data after filtering: ', trans.shape)"
   ]
  },
  {
   "cell_type": "code",
   "execution_count": 93,
   "metadata": {},
   "outputs": [
    {
     "output_type": "stream",
     "name": "stdout",
     "text": [
      "(6837, 5640)\n",
      "-11.616882689828085\n",
      "[[nan nan nan nan nan nan nan nan nan nan]\n",
      " [nan nan nan nan nan nan nan nan nan nan]\n",
      " [nan nan nan nan nan nan nan nan nan nan]\n",
      " [nan nan nan nan nan nan nan nan nan nan]\n",
      " [nan nan nan nan nan nan nan nan nan nan]\n",
      " [nan nan nan nan nan nan nan nan nan nan]\n",
      " [nan nan nan nan nan nan nan nan nan nan]\n",
      " [nan nan nan nan nan nan nan nan nan nan]\n",
      " [nan nan nan nan nan nan nan nan nan nan]\n",
      " [nan nan nan nan nan nan nan nan nan nan]]\n",
      "None\n",
      "<ipython-input-1-3b92d00ab6e8>:28: RuntimeWarning: overflow encountered in long_scalars\n",
      "  return float(np.isnan(arr).sum()*100)/np.prod(arr.shape)\n"
     ]
    }
   ],
   "source": [
    "# converting to a matrix now succeeds\n",
    "ratmatrix, uids, iids = makeratingsmatrix(trans)\n",
    "print(ratmatrix.shape)\n",
    "print(sparsity(ratmatrix)) # show % that is empty\n",
    "print(head(ratmatrix))"
   ]
  },
  {
   "cell_type": "code",
   "execution_count": 94,
   "metadata": {},
   "outputs": [],
   "source": [
    "#----------------------\n",
    "# An interesting aside:\n",
    "# how many of the topN recommendations from user-based CF are also in the topN from item-based CF? \n",
    "# To compute this we convert the recommended items into sets and compute the intersection, e.g.\n",
    "uuset = set(uurecs.index)\n",
    "iiset = set(iirecs.index)\n",
    "uuset.intersection(iiset) # this shows the set of users (userindexes) who are in the topN list for both UU and II recommendations\n",
    "# Note1: a bigger value for top N is more likely to result in a bigger intersection.\n",
    "# Note2: an item does not have to be in both the UU and II sets to be a good recommendation - any of the items in the union\n",
    "# of the UU and II recommendations are potentially good recommendations.\n",
    "#---------------------\n",
    "\n",
    "# Now proceed as before to create train/test sets and to compute MAE using user-based & item-based CF\n",
    "# and to explore performance of the various similarity measures.\n",
    "# Normally we would make the testset ~ 10%-30% of the total data, e.g. testsize = int(0.8*len(trans))\n",
    "# but since demolib is slow we keep the #testevents small, e.g. 200\n",
    "# If your PC is fast then you can make this larger for more accurate testing (or if your PC is very slow then make it smaller)\n",
    "testsize = 100\n",
    "testevents = trans.sample(n=testsize).values.tolist()\n",
    "\n",
    "# Note: for item-based CF, remember to compute the item similarity matrix ONLY AFTER the testevents have been blanked out (deleted) in the ratings matrix"
   ]
  },
  {
   "cell_type": "code",
   "execution_count": 95,
   "metadata": {},
   "outputs": [
    {
     "output_type": "display_data",
     "data": {
      "text/plain": "HBox(children=(HTML(value=''), FloatProgress(value=0.0), HTML(value='')))",
      "application/vnd.jupyter.widget-view+json": {
       "version_major": 2,
       "version_minor": 0,
       "model_id": "dbda6781dab94a63a3544162922a8564"
      }
     },
     "metadata": {}
    },
    {
     "output_type": "stream",
     "name": "stdout",
     "text": [
      "\n1.7941408343025025\n"
     ]
    },
    {
     "output_type": "display_data",
     "data": {
      "text/plain": "HBox(children=(HTML(value=''), FloatProgress(value=0.0), HTML(value='')))",
      "application/vnd.jupyter.widget-view+json": {
       "version_major": 2,
       "version_minor": 0,
       "model_id": "cdac45c136194e3d962afa26775acebb"
      }
     },
     "metadata": {}
    },
    {
     "output_type": "stream",
     "name": "stdout",
     "text": [
      "\n1.548881788206876\n"
     ]
    },
    {
     "output_type": "display_data",
     "data": {
      "text/plain": "HBox(children=(HTML(value=''), FloatProgress(value=0.0), HTML(value='')))",
      "application/vnd.jupyter.widget-view+json": {
       "version_major": 2,
       "version_minor": 0,
       "model_id": "09532cf5492449938d52969843a7d2d8"
      }
     },
     "metadata": {}
    },
    {
     "output_type": "stream",
     "name": "stdout",
     "text": [
      "\n1.3727899477807353\n"
     ]
    }
   ],
   "source": [
    "# blank out the testset ratings in the ratings matrix - this now becomes our training data\n",
    "for (uname,iname,rating) in testevents: \n",
    "    ratmatrix[uids[uname],iids[iname]] = np.nan\n",
    "\n",
    "# execute the test function in demolib to make ratings predictions for the test events and obtain the prediction errors\n",
    "# note: to desplay progress, this function prints a \".\" for every testevent processed\n",
    "for simfun in [pearsonsim, cosinesim, euclidsim]:\n",
    "    errs = computeErrs_UU(testevents, ratmatrix, uids, iids, simfun=simfun)\n",
    "    print(np.nanmean(abs(errs)))"
   ]
  },
  {
   "cell_type": "code",
   "execution_count": 97,
   "metadata": {},
   "outputs": [],
   "source": [
    "# calc the item similarity matrix\n",
    "# try using each of these in turn\n",
    "# simfun = euclidsim\n",
    "# simfun = cosinesim\n",
    "\n",
    "# tic = time.perf_counter()\n",
    "# itemsims = getitemsimsmatrix(ratmatrix, simfun = simfun)\n",
    "# print(f\"time {time.perf_counter() - tic:0.4f} seconds\")\n",
    "\n",
    "# errs = computeErrs_II(testevents, ratmatrix, uids, iids, itemsims)\n",
    "# np.nanmean(abs(errs))"
   ]
  },
  {
   "cell_type": "code",
   "execution_count": null,
   "metadata": {},
   "outputs": [],
   "source": [
    "# compute percentage rank for each test event \n",
    "# (% position of test event in the list of unseenitems ranked descending by their predicted rating, a low % position is good)\n",
    "prs = computePercentageRanking(testevents, ratmatrix, uids, iids, simfun=cosinesim) #  user-based\n",
    "np.nanmean(abs(prs))"
   ]
  },
  {
   "cell_type": "code",
   "execution_count": null,
   "metadata": {},
   "outputs": [],
   "source": [
    "prs = computePercentageRanking(testevents, ratmatrix, uids, iids, itemsims=itemsims) # item-based (since item sim.matrix is supplied)\n",
    "np.nanmean(abs(prs))"
   ]
  },
  {
   "cell_type": "code",
   "execution_count": null,
   "metadata": {},
   "outputs": [],
   "source": [
    "# compute lift over random, where lift = (#hits using CF)/(#hits using random)\n",
    "# Note: small values of topN may not yield any hits , hence below we try a range of values for topN\n",
    "# Also note that for bigger values of topN the lift over random is expected to be smaller\n",
    "\n",
    "# lift for user-based CF\n",
    "for k in [5,10,50]:\n",
    "    cfhits, randhits, recsmade = computeLiftOverRandom(testevents, ratmatrix, uids, iids, alg = \"uu\", simfun=simfun, topN=k)\n",
    "    print(\"\\nlift=\", cfhits/randhits if randhits > 0 else \"-\",\n",
    "          \"cfhits=\", cfhits, \"randhits=\", randhits, \"totitemsrecommended=\",recsmade)\n",
    "    \n",
    "# lift for item-based CF\n",
    "for k in [5,10,50]:\n",
    "    cfhits, randhits, recsmade = computeLiftOverRandom(testevents, ratmatrix, uids, iids, alg = \"ii\", itemsims=itemsims, topN=k)\n",
    "    print(\"\\nlift=\", cfhits/randhits if randhits > 0 else \"-\",\n",
    "          \"cfhits=\", cfhits, \"randhits=\", randhits, \"totitemsrecommended=\",recsmade)"
   ]
  }
 ]
}