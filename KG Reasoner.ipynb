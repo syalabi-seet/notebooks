{
 "cells": [
  {
   "cell_type": "markdown",
   "metadata": {},
   "source": [
    "# Knowledge Graph (KG) Reasoner"
   ]
  },
  {
   "cell_type": "markdown",
   "metadata": {},
   "source": [
    "Based on Animal Farm >> By author: George Orwell (pseudonym of Eric Blair) (1903-1950) http://gutenberg.net.au/ebooks01/0100011.txt\n",
    "\n",
    "\n",
    "<img src=\"https://upload.wikimedia.org/wikipedia/commons/f/fb/Animal_Farm_-_1st_edition.jpg\" width=300>"
   ]
  },
  {
   "cell_type": "markdown",
   "metadata": {},
   "source": [
    "# 1. Import Library"
   ]
  },
  {
   "cell_type": "code",
   "execution_count": 1,
   "metadata": {},
   "outputs": [],
   "source": [
    "from neo4j import GraphDatabase\n",
    "from neo4j.exceptions import ServiceUnavailable\n",
    "import logging\n",
    "import spacy\n",
    "import opennre # https://github.com/thunlp/OpenNRE\n",
    "from tqdm.notebook import tqdm\n",
    "import transformers"
   ]
  },
  {
   "cell_type": "markdown",
   "metadata": {},
   "source": [
    "# 2. Initialize working environment"
   ]
  },
  {
   "cell_type": "markdown",
   "metadata": {},
   "source": [
    "### Connect to Neo4j"
   ]
  },
  {
   "cell_type": "code",
   "execution_count": 2,
   "metadata": {},
   "outputs": [],
   "source": [
    "# Initialize the graph DB and delete all the nodes and relationships\n",
    "graph = GraphDatabase.driver(\n",
    "    uri=\"neo4j://localhost:7687\",\n",
    "    auth=(\"neo4j\", \"1234\")\n",
    ")"
   ]
  },
  {
   "cell_type": "code",
   "execution_count": 3,
   "metadata": {},
   "outputs": [],
   "source": [
    "query = (\n",
    "        \"MATCH (all_nodes)\"\n",
    "        \"OPTIONAL MATCH (all_nodes)-[all_rels]->()\"\n",
    "        \"DELETE all_nodes, all_rels\"\n",
    "    )\n",
    "with graph.session() as session:\n",
    "    result = session.run(query)"
   ]
  },
  {
   "cell_type": "markdown",
   "metadata": {},
   "source": [
    "### Load OpenNRE"
   ]
  },
  {
   "cell_type": "code",
   "execution_count": 4,
   "metadata": {},
   "outputs": [
    {
     "name": "stderr",
     "output_type": "stream",
     "text": [
      "2021-03-07 17:03:21,980 - root - INFO - Loading BERT pre-trained checkpoint.\n"
     ]
    }
   ],
   "source": [
    "# model = opennre.get_model('wiki80_cnn_softmax')\n",
    "# model = opennre.get_model('wiki80_bert_softmax')\n",
    "model = opennre.get_model('wiki80_bertentity_softmax')\n",
    "# model = opennre.get_model('tacred_bert_softmax')\n",
    "# model = opennre.get_model('tacred_bertentity_softmax')"
   ]
  },
  {
   "cell_type": "markdown",
   "metadata": {},
   "source": [
    "# 3. Create Knowledge Graph"
   ]
  },
  {
   "cell_type": "markdown",
   "metadata": {},
   "source": [
    "## 3.1 Build KG by extracting name-entities (vertices/nodes) & relations (edges/links/predicates) from textual corpus."
   ]
  },
  {
   "cell_type": "code",
   "execution_count": 6,
   "metadata": {},
   "outputs": [
    {
     "name": "stdout",
     "output_type": "stream",
     "text": [
      "Happy Village is located in Florida, USA.\n",
      "\n",
      "Mr. Wilson is a well-known local silversmith in Happy Village.\n",
      "\n",
      "He is very very old.\n",
      "\n",
      "When Mr. Wilson was young, he came to Happy Village to seek refuge from a war.\n",
      "\n",
      "Mr. Wilson found his wife Mary here and raised three children.\n",
      "\n",
      "James is the elder son of Wilson.\n",
      "\n",
      "Tom is the younger son of Wilson.\n",
      "\n",
      "Mr. Wilson also has a daughter named Madonna.\n",
      "\n",
      "William is James's son.\n"
     ]
    }
   ],
   "source": [
    "sentences = []\n",
    "\n",
    "with open(\"/home/syalabi/corpus/Family.txt\", \"r\") as f:\n",
    "    sentence = f.readline()\n",
    "    while sentence:\n",
    "        sentences.append(sentence)\n",
    "        sentence = f.readline()\n",
    "\n",
    "for _ in sentences:\n",
    "    print(_)"
   ]
  },
  {
   "cell_type": "markdown",
   "metadata": {},
   "source": [
    "### SpaCy: Named Entity Recognition:\n",
    "\n",
    "https://spacy.io/api/annotation#named-entities\n",
    "\n",
    "\n",
    "### OpenNRE: Relation Extraction:\n",
    "\n",
    "https://github.com/thunlp/OpenNRE#what-is-relation-extraction\n"
   ]
  },
  {
   "cell_type": "code",
   "execution_count": 7,
   "metadata": {
    "scrolled": true
   },
   "outputs": [
    {
     "name": "stdout",
     "output_type": "stream",
     "text": [
      "create new node with label as GPE and name as Florida\n",
      "create new node with label as GPE and name as USA\n",
      "create new relationship Florida - country -> USA with confidence of 0.9737794995307922\n",
      "create new relationship USA - contains_administrative_territorial_entity -> Florida with confidence of 0.9616801738739014\n",
      "create new node with label as PERSON and name as Wilson\n",
      "create new node with label as PERSON and name as Mary\n",
      "create new relationship Wilson - spouse -> Mary with confidence of 0.9840330481529236\n",
      "create new relationship Mary - spouse -> Wilson with confidence of 0.987860381603241\n",
      "create new node with label as PERSON and name as James\n",
      "create new relationship James - father -> Wilson with confidence of 0.9863383173942566\n",
      "create new relationship Wilson - child -> James with confidence of 0.9927425384521484\n",
      "create new node with label as PERSON and name as Tom\n",
      "create new relationship Tom - father -> Wilson with confidence of 0.9853073358535767\n",
      "create new relationship Wilson - child -> Tom with confidence of 0.9925351142883301\n",
      "create new node with label as PERSON and name as Madonna\n",
      "create new relationship Wilson - child -> Madonna with confidence of 0.9913269877433777\n",
      "create new relationship Madonna - father -> Wilson with confidence of 0.9730020761489868\n",
      "create new node with label as PERSON and name as William\n",
      "create new relationship William - father -> James with confidence of 0.988419771194458\n",
      "create new relationship James - child -> William with confidence of 0.9818477630615234\n"
     ]
    }
   ],
   "source": [
    "nlp = spacy.load('en_core_web_lg') # !python -m spacy download en_core_web_lg\n",
    "\n",
    "exist_ent = {}\n",
    "exist_relationship = []\n",
    "\n",
    "for sentence in sentences:\n",
    "    doc = nlp(sentence)\n",
    "    entities = []\n",
    "    names_of_entities = []\n",
    "    for ent in doc.ents:\n",
    "        if ent.label_ in ['PERSON', 'GPE', 'ORG'] and ent.text not in names_of_entities:\n",
    "#        if ent not in entities:\n",
    "            names_of_entities.append(ent.text)\n",
    "            entities.append(ent)\n",
    "            \n",
    "    for ent in entities:\n",
    "        if exist_ent.get(ent.text) is None:\n",
    "            exist_ent[ent.text] = ent.text\n",
    "            query = (\n",
    "                \"MERGE (node: \"+ent.label_+\" {name: $name})\"\n",
    "                \"RETURN node\"\n",
    "            )\n",
    "            with graph.session() as session:\n",
    "                result = session.run(query, name=ent.text)\n",
    "                \n",
    "            print(\"create new node with label as {0} and name as {1}\".format(ent.label_, ent.text))\n",
    "\n",
    "    for i in range(len(entities)):\n",
    "        for j in range(i + 1, len(entities)):\n",
    "            text_i = entities[i].text\n",
    "            text_j = entities[j].text\n",
    "            loc_h = sentence.find(text_i)\n",
    "            loc_t = sentence.find(text_j)\n",
    "            \n",
    "            result = model.infer({'text': sentence, 'h': {'pos': (loc_h, loc_h + len(text_i))},\n",
    "                               't': {'pos': (loc_t, loc_t + len(text_j))}})\n",
    "            \n",
    "            (rel, confidence) = result[0].replace(' ', '_'), result[1]\n",
    "\n",
    "            record = (text_i, text_j, rel, confidence)\n",
    "\n",
    "            result_rev = model.infer({'text': sentence, 'h': {'pos': (loc_t, loc_t + len(text_j))},\n",
    "                               't': {'pos': (loc_h, loc_h + len(text_i))}})\n",
    "            \n",
    "            (rel_rev, confidence) = result_rev[0].replace(' ', '_'), result_rev[1]\n",
    "\n",
    "            record_rev = (text_j, text_i, rel_rev, confidence)\n",
    "            \n",
    "            if record not in exist_relationship:\n",
    "                exist_relationship.append(record)\n",
    "                if record[3] > 0.8:\n",
    "                    query = (\n",
    "                        \"MATCH (n1 {name: $name1})\"\n",
    "                        \"MATCH (n2 {name: $name2})\"\n",
    "                        \"MERGE (n1) - [r:\"+record[2]+\"] -> (n2)\"\n",
    "                        \"RETURN n1, n2, r\"\n",
    "                    )\n",
    "                    with graph.session() as session:\n",
    "                        result = session.run(query, name1=exist_ent[text_i], name2=exist_ent[text_j])\n",
    "                        \n",
    "                    print(\"create new relationship {0} - {1} -> {2} with confidence of {3}\".format(record[0], record[2], record[1], record[3]))\n",
    "\n",
    "            if record_rev not in exist_relationship:\n",
    "                exist_relationship.append(record_rev)\n",
    "                if record_rev[3] > 0.9:\n",
    "                    query = (\n",
    "                        \"MATCH (n1 {name: $name1})\"\n",
    "                        \"MATCH (n2 {name: $name2})\"\n",
    "                        \"MERGE (n1) - [r:\"+record_rev[2]+\"] -> (n2)\"   \n",
    "                        \"RETURN n1, n2, r\"\n",
    "                    )\n",
    "\n",
    "                    with graph.session() as session:\n",
    "                        result = session.run(query, name1=exist_ent[text_j], name2=exist_ent[text_i])\n",
    "                        \n",
    "                    print(\"create new relationship {0} - {1} -> {2} with confidence of {3}\".format(record_rev[0], record_rev[2], record_rev[1], record_rev[3]))"
   ]
  },
  {
   "cell_type": "markdown",
   "metadata": {},
   "source": [
    "### Visualize created knowledge graph at: http://localhost:7474/browser/\n",
    "\n",
    "* Username: neo4j\n",
    "\n",
    "* Password: 1234"
   ]
  },
  {
   "cell_type": "markdown",
   "metadata": {},
   "source": [
    "## 3.2 Extend/Expand KG by inferencing (auto-reasoning) new relations/entites using universal rules (static knowledge / common sense).\n",
    "\n",
    "Automatic Reasoner"
   ]
  },
  {
   "cell_type": "markdown",
   "metadata": {},
   "source": [
    "### Practise graph modification:"
   ]
  },
  {
   "cell_type": "code",
   "execution_count": 8,
   "metadata": {},
   "outputs": [],
   "source": [
    "graph = GraphDatabase.driver(\n",
    "    uri=\"neo4j://localhost:7687\",\n",
    "    auth=(\"neo4j\", \"1234\")\n",
    ")"
   ]
  },
  {
   "cell_type": "code",
   "execution_count": 9,
   "metadata": {},
   "outputs": [],
   "source": [
    "# Create Happy Village node\n",
    "query = (\n",
    "        \"CREATE (n1:GPE {name: 'Happy Village'})\"\n",
    "        \"RETURN n1\"\n",
    ")\n",
    "\n",
    "# Execuate above query to modify neo4j db:\n",
    "with graph.session() as session:\n",
    "    results = session.run(query)"
   ]
  },
  {
   "cell_type": "code",
   "execution_count": 10,
   "metadata": {},
   "outputs": [],
   "source": [
    "## Create relationship between Happy Village and Florida\n",
    "query = (\n",
    "        \"MATCH (n1:GPE {name:'Happy Village'}), (n2:GPE {name:'Florida'})\"\n",
    "        \"CREATE (n1)-[r:village]->(n2)\"\n",
    "        \"RETURN n1, n2, r\"\n",
    ")\n",
    "\n",
    "# Execuate above query to modify neo4j db:\n",
    "with graph.session() as session:\n",
    "    results = session.run(query)"
   ]
  },
  {
   "cell_type": "code",
   "execution_count": 11,
   "metadata": {},
   "outputs": [],
   "source": [
    "## Create relationship between Wilson and Happy Village\n",
    "query = (\n",
    "        \"MATCH (n1:PERSON {name:'Wilson'}), (n2:GPE {name:'Happy Village'})\"\n",
    "        \"CREATE (n1)-[r:lives]->(n2)\"\n",
    "        \"RETURN n1, n2, r\"\n",
    ")\n",
    "\n",
    "# Execuate above query to modify neo4j db:\n",
    "with graph.session() as session:\n",
    "    results = session.run(query)"
   ]
  },
  {
   "cell_type": "code",
   "execution_count": 12,
   "metadata": {},
   "outputs": [],
   "source": [
    "# Modify KG, e.g. Delete all link(s) from 'Happy Village' --to--> 'Wilson'\n",
    "query = (\n",
    "        \"MATCH (n1:PERSON {name:'Wilson'}), (n2:GPE {name:'Happy Village'})\"\n",
    "        \"MATCH (n1)-[r:lives]->(n2)\"\n",
    "        \"DELETE r\"\n",
    ")\n",
    "\n",
    "# Execuate above query to modify neo4j db:\n",
    "with graph.session() as session:\n",
    "    results = session.run(query)"
   ]
  },
  {
   "cell_type": "markdown",
   "metadata": {},
   "source": [
    "Your exercise: Modify KG, e.g. Delete all link(s) from 'Florida' --to--> 'Happy Village'"
   ]
  },
  {
   "cell_type": "code",
   "execution_count": 13,
   "metadata": {},
   "outputs": [],
   "source": [
    "# Your exercise: Modify KG, e.g. Delete all link(s) from 'Florida' --to--> 'Happy Village'\n",
    "query = (\n",
    "        \"MATCH (n1:GPE {name:'Happy Village'}), (n2:GPE {name:'Florida'})\"\n",
    "        \"MATCH (n1)-[r:village]->(n2)\"\n",
    "        \"DELETE r\"\n",
    ")\n",
    "\n",
    "# Execuate above query to modify neo4j db:\n",
    "with graph.session() as session:\n",
    "    results = session.run(query)"
   ]
  },
  {
   "cell_type": "markdown",
   "metadata": {},
   "source": [
    "### Add rule set:"
   ]
  },
  {
   "cell_type": "code",
   "execution_count": 14,
   "metadata": {},
   "outputs": [],
   "source": [
    "# Rule 1: Siblings relationship/link\n",
    "\n",
    "# WHEN:\n",
    "# (n1:PERSON)-[r:father]->(n2:PERSON) # n1 has a father : n2\n",
    "# (n2:PERSON)-[r2:child]->(n3:PERSON) # n2 has a child  : n3\n",
    "# THEN:\n",
    "# n1 and n3 are siblings (bi-direcitonal)\n",
    "\n",
    "query = (\n",
    "        \"MATCH (n1:PERSON)-[r:father]->(n2:PERSON)-[r2:child]->(n3:PERSON)\"\n",
    "        \"WHERE (n1) <> (n3)\"\n",
    "        \"MERGE (n1)-[r3:sibling]->(n3)\"\n",
    "        \"MERGE (n3)-[r4:sibling]->(n1)\"\n",
    "        \"RETURN n1, n3\"\n",
    ")"
   ]
  },
  {
   "cell_type": "code",
   "execution_count": 15,
   "metadata": {},
   "outputs": [],
   "source": [
    "# Execute above query to modify neo4j db:\n",
    "with graph.session() as session:\n",
    "    results = session.run(query)"
   ]
  },
  {
   "cell_type": "code",
   "execution_count": 16,
   "metadata": {},
   "outputs": [],
   "source": [
    "# Rule 2: Mother relationship/link\n",
    "\n",
    "# WHEN:\n",
    "# (n1:PERSON)-[r:father]->(n2:PERSON)  # n1 has a father : n2\n",
    "# (n2:PERSON)-[r2:spouse]->(n3:PERSON) # n2 has a spouse : n3\n",
    "# THEN:\n",
    "# (n1)-[r3:mother]->(n3) # n1 has a mother : n3\n",
    "# (n3)-[r4:child]->(n1)  # n3 has a child  : n1\n",
    "\n",
    "query = (\n",
    "        \"MATCH (n1:PERSON)-[r:father]->(n2:PERSON)-[r2:spouse]->(n3:PERSON)\"\n",
    "        \"MERGE (n1)-[r3:mother]->(n3)\"\n",
    "        \"MERGE (n3)-[r4:child]->(n1)\"\n",
    "        \"RETURN n1, n3\"\n",
    ")"
   ]
  },
  {
   "cell_type": "code",
   "execution_count": 17,
   "metadata": {},
   "outputs": [],
   "source": [
    "# Execuate above query to modify neo4j db:\n",
    "with graph.session() as session:\n",
    "    results = session.run(query)"
   ]
  },
  {
   "cell_type": "code",
   "execution_count": 18,
   "metadata": {},
   "outputs": [],
   "source": [
    "# Rule 3: Grandfather relationship/link\n",
    "\n",
    "# WHEN:\n",
    "# (n1:PERSON)-[r:father]->(n2:PERSON)  # n1 has a father : n2\n",
    "# (n2:PERSON)-[r2:father]->(n3:PERSON) # n2 has a father : n3\n",
    "# THEN:\n",
    "# (n1)-[r3:grandfather]->(n3) # n1 has a grandfather : n3\n",
    "# (n3)-[r4:grandchild]->(n1)  # n3 has a grandchild  : n1\n",
    "\n",
    "query = (\n",
    "        \"MATCH (n1:PERSON)-[r:father]->(n2:PERSON)-[r2:father]->(n3:PERSON)\"\n",
    "        \"MERGE (n1)-[r3:grandfather]->(n3)\"\n",
    "        \"MERGE (n3)-[r4:grandchild]->(n1)\"\n",
    "        \"RETURN n1, n3\"\n",
    ")"
   ]
  },
  {
   "cell_type": "code",
   "execution_count": 19,
   "metadata": {},
   "outputs": [],
   "source": [
    "# Execute above query to modify neo4j db:\n",
    "with graph.session() as session:\n",
    "    results = session.run(query)"
   ]
  },
  {
   "cell_type": "markdown",
   "metadata": {},
   "source": [
    "## 3.3 Retrieve information by querying / reasoning over KG."
   ]
  },
  {
   "cell_type": "markdown",
   "metadata": {},
   "source": [
    "### Our query: 'Deep Thought, what's the relationship between Wilson and William?'"
   ]
  },
  {
   "cell_type": "code",
   "execution_count": 20,
   "metadata": {},
   "outputs": [
    {
     "name": "stdout",
     "output_type": "stream",
     "text": [
      "Deep Thought: William is Wilson's grandchild.\n"
     ]
    }
   ],
   "source": [
    "query = (\n",
    "        \"MATCH (n1 {name:'Wilson'})-[r]->(n2 {name:'William'})\"\n",
    "        \"RETURN n1, r, n2\"\n",
    ")\n",
    "with graph.session() as session:\n",
    "    results = session.run(query)\n",
    "    for result in results:\n",
    "        print(\"Deep Thought: {0} is {1}'s {2}.\".format(result['n2']['name'],\n",
    "                                                      result['n1']['name'],\n",
    "                                                      result['r'].type))"
   ]
  },
  {
   "cell_type": "markdown",
   "metadata": {},
   "source": [
    "### Our query: 'Deep Thought, what's the relationship between James and Mary?'"
   ]
  },
  {
   "cell_type": "code",
   "execution_count": 21,
   "metadata": {},
   "outputs": [
    {
     "name": "stdout",
     "output_type": "stream",
     "text": [
      "Deep Thought: Mary is James's mother.\n"
     ]
    }
   ],
   "source": [
    "query = (\n",
    "        \"MATCH (n1 {name:'James'})-[r]->(n2 {name:'Mary'})\"\n",
    "        \"RETURN n1, r, n2\"\n",
    ")\n",
    "with graph.session() as session:\n",
    "    results = session.run(query)\n",
    "    for result in results:\n",
    "        print(\"Deep Thought: {0} is {1}'s {2}.\".format(result['n2']['name'], \n",
    "                                                       result['n1']['name'],\n",
    "                                                       result['r'].type))"
   ]
  },
  {
   "cell_type": "markdown",
   "metadata": {},
   "source": [
    "# 4. Knowledge Graph\n",
    "### Build knowledge graph in << Animal Farm >> by  George Orwell;\n",
    "### Then query various entities and relationships;"
   ]
  },
  {
   "cell_type": "code",
   "execution_count": 22,
   "metadata": {
    "scrolled": true
   },
   "outputs": [
    {
     "name": "stdout",
     "output_type": "stream",
     "text": [
      "Title: Animal Farm \n",
      "\n",
      "Author: George Orwell (pseudonym of Eric Blair) (1903-1950)\n",
      "\n",
      "Chapter I\n",
      "\n",
      "Mr Jones, of the Manor Farm, had locked the hen-houses for the night, but was too drunk to remember to shut the pop-holes.\n",
      "\n",
      "With the ring of light from his lantern dancing from side to side, he lurched across the yard, kicked off his boots at the back door, drew himself a last glass of beer from the barrel in the scullery, and made his way up to bed, where Mrs Jones was already snoring.\n",
      "\n"
     ]
    }
   ],
   "source": [
    "sentences = []\n",
    "path = \"/home/syalabi/corpus/Animal Farm by George Orwell.txt\"\n",
    "\n",
    "with open(path, \"r\") as f:\n",
    "    sentence = f.readline()\n",
    "    while sentence:\n",
    "        sentences.append(sentence)\n",
    "        sentence = f.readline()\n",
    "\n",
    "for _ in sentences[0:5]:\n",
    "    print(_)"
   ]
  },
  {
   "cell_type": "code",
   "execution_count": 23,
   "metadata": {},
   "outputs": [],
   "source": [
    "## Initialize and refresh neo4j graph session\n",
    "query = (\n",
    "        \"MATCH (all_nodes)\"\n",
    "        \"OPTIONAL MATCH (all_nodes)-[all_rels]->()\"\n",
    "        \"DELETE all_nodes, all_rels\"\n",
    "    )\n",
    "with graph.session() as session:\n",
    "    result = session.run(query)"
   ]
  },
  {
   "cell_type": "code",
   "execution_count": 24,
   "metadata": {
    "scrolled": true
   },
   "outputs": [
    {
     "data": {
      "application/vnd.jupyter.widget-view+json": {
       "model_id": "e9cb1049428a4aeeaf025a4927accbe1",
       "version_major": 2,
       "version_minor": 0
      },
      "text/plain": [
       "  0%|          | 0/1591 [00:00<?, ?it/s]"
      ]
     },
     "metadata": {},
     "output_type": "display_data"
    },
    {
     "name": "stdout",
     "output_type": "stream",
     "text": [
      "Created new node with label as PERSON and name as George Orwell\n",
      "Created new node with label as PERSON and name as Eric Blair\n",
      "Create new relationship George Orwell - said_to_be_the_same_as -> Eric Blair with confidence of 0.9892570376396179\n",
      "Create new relationship Eric Blair - said_to_be_the_same_as -> George Orwell with confidence of 0.9881123900413513\n",
      "Created new node with label as PERSON and name as Mr Jones\n",
      "Created new node with label as ORG and name as the Manor Farm\n",
      "Create new relationship Mr Jones - residence -> the Manor Farm with confidence of 0.9363416433334351\n",
      "Created new node with label as PERSON and name as Mrs Jones\n",
      "Created new node with label as PERSON and name as Major\n",
      "Created new node with label as ORG and name as Willingdon Beauty\n",
      "Created new node with label as ORG and name as Bluebell\n",
      "Created new node with label as PERSON and name as Jessie\n",
      "Created new node with label as PERSON and name as Pincher\n",
      "Create new relationship Bluebell - sibling -> Jessie with confidence of 0.965365469455719\n",
      "Create new relationship Jessie - sibling -> Bluebell with confidence of 0.9693782925605774\n",
      "Create new relationship Bluebell - sibling -> Pincher with confidence of 0.9467272162437439\n",
      "Create new relationship Pincher - sibling -> Bluebell with confidence of 0.9502478837966919\n",
      "Create new relationship Jessie - sibling -> Pincher with confidence of 0.9296121597290039\n",
      "Create new relationship Pincher - sibling -> Jessie with confidence of 0.9446098804473877\n",
      "Created new node with label as PERSON and name as Boxer\n",
      "Created new node with label as PERSON and name as Clover\n",
      "Created new node with label as PERSON and name as Muriel\n",
      "Created new node with label as PERSON and name as Benjamin\n",
      "Create new relationship Muriel - sibling -> Benjamin with confidence of 0.9012717008590698\n",
      "Create new relationship Benjamin - sibling -> Muriel with confidence of 0.8768963813781738\n",
      "Created new node with label as PERSON and name as Mollie\n",
      "Created new node with label as PERSON and name as Mr Jones's\n",
      "Created new node with label as GPE and name as England\n",
      "Created new node with label as PERSON and name as Jones\n",
      "Created new node with label as ORG and name as Rebellion\n",
      "Created new node with label as GPE and name as Ireland\n",
      "Created new node with label as ORG and name as Riches\n",
      "Created new node with label as ORG and name as Cows\n",
      "Created new node with label as PERSON and name as Snowball\n",
      "Created new node with label as PERSON and name as Napoleon\n",
      "Create new relationship Snowball - sibling -> Napoleon with confidence of 0.8895888924598694\n",
      "Create new relationship Napoleon - sibling -> Snowball with confidence of 0.9088970422744751\n",
      "Create new relationship Snowball - father -> Mr Jones with confidence of 0.7533625364303589\n",
      "Create new relationship Mr Jones - child -> Snowball with confidence of 0.8442952036857605\n",
      "Create new relationship Napoleon - father -> Mr Jones with confidence of 0.7329906821250916\n",
      "Create new relationship Mr Jones - child -> Napoleon with confidence of 0.8123650550842285\n",
      "Created new node with label as GPE and name as Berkshire\n",
      "Create new relationship Napoleon - residence -> Berkshire with confidence of 0.7263940572738647\n",
      "Created new node with label as PERSON and name as Squealer\n",
      "Created new node with label as PERSON and name as Animalism\n",
      "Create new relationship Major - movement -> Animalism with confidence of 0.7589450478553772\n",
      "Create new relationship Rebellion - participant -> Snowball with confidence of 0.9110333919525146\n",
      "Create new relationship Boxer - sibling -> Clover with confidence of 0.7987238168716431\n",
      "Created new node with label as GPE and name as Windsor\n",
      "Created new node with label as ORG and name as the Red Lion\n",
      "Create new relationship Mr Jones - residence -> the Red Lion with confidence of 0.8346788883209229\n",
      "Created new node with label as ORG and name as the News of the World\n",
      "Create new relationship Rebellion - participant -> Jones with confidence of 0.9845801591873169\n",
      "Create new relationship Rebellion - location -> the Manor Farm with confidence of 0.8341114521026611\n",
      "Create new relationship Jones - residence -> the Manor Farm with confidence of 0.7859859466552734\n",
      "Create new relationship Snowball - sibling -> Napoleon with confidence of 0.7443752884864807\n",
      "Created new node with label as GPE and name as Brussels\n",
      "Created new node with label as PERSON and name as Mrs Jones's\n",
      "Created new node with label as ORG and name as the \"S's\n",
      "Created new node with label as PERSON and name as Chapter III\n",
      "\n",
      "Create new relationship Snowball - spouse -> Mrs Jones's with confidence of 0.7687777876853943\n",
      "Created new node with label as ORG and name as the Egg Production Committee\n",
      "Created new node with label as ORG and name as the Wild Comrades'\n",
      "Created new node with label as ORG and name as the Whiter Wool Movement\n",
      "Create new relationship the Egg Production Committee - followed_by -> the Whiter Wool Movement with confidence of 0.9652612805366516\n",
      "Create new relationship the Whiter Wool Movement - follows -> the Egg Production Committee with confidence of 0.9629235863685608\n",
      "Created new node with label as PERSON and name as A.\n",
      "\n",
      "Create new relationship Jessie - spouse -> Bluebell with confidence of 0.8310471177101135\n",
      "Created new node with label as ORG and name as Science\n",
      "Created new node with label as ORG and name as Animal Farm\n",
      "Created new node with label as GPE and name as Willingdon\n",
      "Created new node with label as PERSON and name as Foxwood\n",
      "Created new node with label as PERSON and name as Mr Pilkington\n",
      "Created new node with label as ORG and name as Pinchfield\n",
      "Created new node with label as PERSON and name as a Mr Frederick\n",
      "Created new node with label as PERSON and name as Frederick\n",
      "Created new node with label as PERSON and name as Pilkington\n",
      "Create new relationship Frederick - sibling -> Pilkington with confidence of 0.857354998588562\n",
      "Create new relationship Pilkington - sibling -> Frederick with confidence of 0.8472760915756226\n",
      "Create new relationship Frederick - sibling -> Pilkington with confidence of 0.7250267863273621\n",
      "Create new relationship Jones - residence -> Foxwood with confidence of 0.9463459253311157\n",
      "Created new node with label as PERSON and name as Julius Caesar's\n",
      "Create new relationship Muriel - sibling -> Benjamin with confidence of 0.7413485646247864\n",
      "Created new node with label as GPE and name as Flagstaff\n",
      "Created new node with label as ORG and name as Stockbreeder\n",
      "Created new node with label as PERSON and name as Mr Jones--'One Thousand\n",
      "Created new node with label as ORG and name as House\n",
      "Create new relationship Mr Jones--'One Thousand - notable_work -> House with confidence of 0.8461818695068359\n",
      "Created new node with label as ORG and name as Windmill\n",
      "Create new relationship Snowball - characters -> Napoleon with confidence of 0.7319564819335938\n",
      "Create new relationship Napoleon - military_rank -> Major with confidence of 0.8379968404769897\n",
      "Create new relationship Snowball - characters -> Napoleon with confidence of 0.7058696150779724\n",
      "Create new relationship Squealer - characters -> Napoleon with confidence of 0.7669151425361633\n",
      "Created new node with label as PERSON and name as Chapter VI\n",
      "\n",
      "Create new relationship Muriel - sibling -> Benjamin with confidence of 0.9601744413375854\n",
      "Create new relationship Benjamin - sibling -> Muriel with confidence of 0.9601292610168457\n",
      "Created new node with label as PERSON and name as Whymper\n",
      "Created new node with label as PERSON and name as Mr Frederick\n",
      "Create new relationship Animal Farm - owned_by -> Napoleon with confidence of 0.7745456099510193\n",
      "Create new relationship Animal Farm - owned_by -> Pilkington with confidence of 0.9439107775688171\n",
      "Create new relationship Animal Farm - owned_by -> Mr Frederick with confidence of 0.9148800373077393\n",
      "Create new relationship Napoleon - residence -> Foxwood with confidence of 0.9150583744049072\n",
      "Create new relationship Napoleon - residence -> Pinchfield with confidence of 0.89644855260849\n",
      "Create new relationship Pilkington - residence -> Foxwood with confidence of 0.7208144664764404\n",
      "Create new relationship Pilkington - residence -> Pinchfield with confidence of 0.8209854960441589\n",
      "Create new relationship Mr Frederick - residence -> Foxwood with confidence of 0.8864369988441467\n",
      "Create new relationship Mr Frederick - residence -> Pinchfield with confidence of 0.9104970693588257\n"
     ]
    },
    {
     "name": "stdout",
     "output_type": "stream",
     "text": [
      "Created new node with label as PERSON and name as Animal Hero\n",
      "Created new node with label as ORG and name as Foxwood Farm\n",
      "Create new relationship Pilkington - sibling -> Mr Frederick with confidence of 0.8488243222236633\n",
      "Create new relationship Mr Frederick - sibling -> Pilkington with confidence of 0.8108956813812256\n",
      "Created new node with label as ORG and name as Frederick, Snowball\n",
      "Create new relationship Frederick, Snowball - residence -> Foxwood with confidence of 0.9234345555305481\n",
      "Create new relationship Frederick, Snowball - residence -> Pilkington with confidence of 0.8385541439056396\n",
      "Created new node with label as ORG and name as Frederick of Pinchfield Farm\n",
      "Create new relationship Animal Farm - owned_by -> Mr Frederick with confidence of 0.9540413618087769\n",
      "Created new node with label as PERSON and name as Chapter VIII\n",
      "\n",
      "Created new node with label as ORG and name as Crown Derby\n",
      "Created new node with label as ORG and name as Ducklings\n",
      "Created new node with label as ORG and name as Minimus\n",
      "Created new node with label as GPE and name as Fountain\n",
      "Created new node with label as PERSON and name as Sleeps\n",
      "Created new node with label as ORG and name as Whymper, Napoleon\n",
      "Create new relationship Frederick - sibling -> Pilkington with confidence of 0.8757597804069519\n",
      "Create new relationship Pilkington - sibling -> Frederick with confidence of 0.869541347026825\n",
      "Create new relationship Frederick - residence -> Animal Farm with confidence of 0.7107221484184265\n",
      "Created new node with label as ORG and name as Pinchfield Farm\n",
      "Create new relationship Pinchfield Farm - occupant -> Snowball with confidence of 0.9092103242874146\n",
      "Create new relationship Animal Farm - owned_by -> Napoleon with confidence of 0.9431514739990234\n",
      "Create new relationship Foxwood - owned_by -> Napoleon with confidence of 0.8921070098876953\n",
      "Create new relationship Pilkington - subsidiary -> Animal Farm with confidence of 0.7501035332679749\n",
      "Create new relationship Animal Farm - owned_by -> Pilkington with confidence of 0.9703572988510132\n",
      "Create new relationship Foxwood - owned_by -> Pilkington with confidence of 0.9617432355880737\n",
      "Create new relationship Napoleon - spouse -> Pilkington with confidence of 0.9191145896911621\n",
      "Create new relationship Pilkington - spouse -> Napoleon with confidence of 0.9233291745185852\n",
      "Create new relationship Pilkington - sibling -> Frederick with confidence of 0.862823486328125\n",
      "Create new relationship Frederick - sibling -> Pilkington with confidence of 0.8842133283615112\n",
      "Create new relationship Squealer - characters -> Napoleon with confidence of 0.928283154964447\n",
      "Create new relationship Snowball - residence -> Foxwood with confidence of 0.9704225063323975\n",
      "Created new node with label as ORG and name as Napoleon Mill\n",
      "Create new relationship Napoleon - residence -> Pinchfield Farm with confidence of 0.8725138306617737\n",
      "Create new relationship Animal Farm - location -> Pinchfield Farm with confidence of 0.9200538992881775\n",
      "Create new relationship Pilkington - said_to_be_the_same_as -> Frederick with confidence of 0.7776874899864197\n",
      "Create new relationship Snowball - residence -> Pinchfield Farm with confidence of 0.9648144245147705\n",
      "Create new relationship Snowball - residence -> Foxwood with confidence of 0.9798423647880554\n",
      "Create new relationship Snowball - residence -> Pilkington with confidence of 0.9614127278327942\n",
      "Create new relationship Pilkington - residence -> Foxwood with confidence of 0.9472944736480713\n",
      "Create new relationship Napoleon - sibling -> Boxer with confidence of 0.715039074420929\n",
      "Create new relationship Clover - sibling -> Napoleon with confidence of 0.7735311388969421\n",
      "Created new node with label as ORG and name as Straw\n",
      "Create new relationship Napoleon - field_of_work -> Animal Farm with confidence of 0.7282232642173767\n",
      "Create new relationship Clover - said_to_be_the_same_as -> Napoleon with confidence of 0.8298044204711914\n",
      "Create new relationship Napoleon - said_to_be_the_same_as -> Clover with confidence of 0.8271015882492065\n",
      "Created new node with label as ORG and name as the Spontaneous Demonstration\n",
      "Create new relationship Jones - characters -> Snowball with confidence of 0.8778063654899597\n",
      "Created new node with label as ORG and name as beak--\"up\n",
      "Create new relationship Clover - sibling -> Benjamin with confidence of 0.864048957824707\n",
      "Create new relationship Benjamin - sibling -> Clover with confidence of 0.8660351037979126\n",
      "Create new relationship Clover - competition_class -> Boxer with confidence of 0.7055872678756714\n",
      "Create new relationship Benjamin - competition_class -> Boxer with confidence of 0.7923745512962341\n",
      "Create new relationship Benjamin - competition_class -> Boxer with confidence of 0.9263390898704529\n",
      "Create new relationship Napoleon - residence -> Willingdon with confidence of 0.8488269448280334\n",
      "Create new relationship Boxer - residence -> Willingdon with confidence of 0.7395801544189453\n",
      "Create new relationship Mollie - sibling -> Snowball with confidence of 0.8373537063598633\n",
      "Create new relationship Snowball - sibling -> Mollie with confidence of 0.8487653732299805\n",
      "Create new relationship Boxer - residence -> Willingdon with confidence of 0.8386186361312866\n",
      "Create new relationship Clover - competition_class -> Boxer with confidence of 0.8253121376037598\n",
      "Create new relationship Benjamin - competition_class -> Boxer with confidence of 0.8397220969200134\n",
      "Create new relationship Clover - sibling -> Benjamin with confidence of 0.9211465716362\n",
      "Create new relationship Benjamin - sibling -> Clover with confidence of 0.9218984842300415\n",
      "Created new node with label as ORG and name as Benjamin and Clover\n",
      "Create new relationship Benjamin and Clover - competition_class -> Boxer with confidence of 0.8599256873130798\n",
      "Created new node with label as PERSON and name as Alfred Simmonds\n",
      "Created new node with label as PERSON and name as Horse Slaughterer\n",
      "Created new node with label as ORG and name as Glue Boiler\n",
      "Create new relationship Alfred Simmonds - occupation -> Horse Slaughterer with confidence of 0.8439140915870667\n",
      "Create new relationship Alfred Simmonds - residence -> Willingdon with confidence of 0.8333070874214172\n",
      "Created new node with label as ORG and name as Dealer in Hides and Bone-Meal\n",
      "Create new relationship Clover - competition_class -> Boxer with confidence of 0.8385009169578552\n",
      "Create new relationship Squealer - main_subject -> Boxer with confidence of 0.9430927038192749\n",
      "Create new relationship Muriel - sibling -> Bluebell with confidence of 0.8092461824417114\n",
      "Create new relationship Bluebell - sibling -> Jessie with confidence of 0.9713153839111328\n",
      "Create new relationship Jessie - sibling -> Bluebell with confidence of 0.9715689420700073\n",
      "Create new relationship Bluebell - sibling -> Pincher with confidence of 0.9482755661010742\n",
      "Create new relationship Pincher - sibling -> Bluebell with confidence of 0.9479542374610901\n",
      "Create new relationship Jessie - sibling -> Pincher with confidence of 0.964526891708374\n",
      "Create new relationship Pincher - sibling -> Jessie with confidence of 0.9685012698173523\n",
      "Create new relationship Rebellion - participant -> Clover with confidence of 0.9603885412216187\n",
      "Created new node with label as ORG and name as England!--owned\n",
      "Created new node with label as GPE and name as The Republic of the Animals\n",
      "Create new relationship The Republic of the Animals - country_of_origin -> England with confidence of 0.8988354206085205\n",
      "Created new node with label as PERSON and name as John Bull'\n",
      "Created new node with label as ORG and name as the 'Daily Mirror'\n",
      "Create new relationship Napoleon - said_to_be_the_same_as -> Mr Jones's with confidence of 0.8088536262512207\n",
      "Create new relationship Mr Jones's - said_to_be_the_same_as -> Napoleon with confidence of 0.8191143274307251\n",
      "Create new relationship Pilkington - residence -> Foxwood with confidence of 0.9356385469436646\n",
      "Created new node with label as ORG and name as The Manor Farm\n"
     ]
    }
   ],
   "source": [
    "## Load en_core_web_lg language model\n",
    "nlp = spacy.load('en_core_web_lg') # !python -m spacy download en_core_web_lg\n",
    "\n",
    "from spacy.pipeline import EntityRuler\n",
    "\n",
    "ruler = nlp.add_pipe(\"entity_ruler\")\n",
    "patterns = [{\"label\":\"PERSON\", \"pattern\":\"Napoleon\"}, \n",
    "            {\"label\":\"PERSON\", \"pattern\":\"Squealer\"}]\n",
    "\n",
    "ruler.add_patterns(patterns)\n",
    "\n",
    "## Initialize entity dict and relationship list\n",
    "exist_ent = {}\n",
    "exist_relationship = []\n",
    "\n",
    "## Parse sentences from corpus \n",
    "for sentence in tqdm(sentences):\n",
    "    try:\n",
    "        doc = nlp(sentence)\n",
    "        entities = []\n",
    "        names_of_entities = []\n",
    "\n",
    "        ## Extract entities from sentences\n",
    "        for ent in doc.ents:\n",
    "            if (ent.label_ in ['PERSON', 'GPE', 'ORG']) and (ent.text not in names_of_entities):\n",
    "                names_of_entities.append(ent.text)\n",
    "                entities.append(ent)\n",
    "\n",
    "        ## Generate nodes onto neo4j graph\n",
    "        for ent in entities:\n",
    "            if exist_ent.get(ent.text) is None:\n",
    "                exist_ent[ent.text] = ent.text\n",
    "                query = (\n",
    "                    \"MERGE (node: \"+ent.label_+\" {name: $name})\"\n",
    "                    \"RETURN node\"\n",
    "                )\n",
    "                with graph.session() as session:\n",
    "                    result = session.run(query, name=ent.text)\n",
    "\n",
    "                print(\"Created new node with label as {0} and name as {1}\".format(ent.label_, ent.text))\n",
    "\n",
    "        ## Extract relationships between entities with confidence levels\n",
    "        for i in range(len(entities)):\n",
    "            for j in range(i + 1, len(entities)):\n",
    "                text_i = entities[i].text\n",
    "                text_j = entities[j].text\n",
    "                loc_h = sentence.find(text_i)\n",
    "                loc_t = sentence.find(text_j)\n",
    "\n",
    "                result = model.infer({'text': sentence, 'h': {'pos': (loc_h, loc_h + len(text_i))},\n",
    "                                   't': {'pos': (loc_t, loc_t + len(text_j))}})\n",
    "\n",
    "                (rel, confidence) = result[0].replace(' ', '_'), result[1]\n",
    "\n",
    "                record = (text_i, text_j, rel, confidence)\n",
    "\n",
    "                result_rev = model.infer({'text': sentence, 'h': {'pos': (loc_t, loc_t + len(text_j))},\n",
    "                                   't': {'pos': (loc_h, loc_h + len(text_i))}})\n",
    "\n",
    "                (rel_rev, confidence) = result_rev[0].replace(' ', '_'), result_rev[1]\n",
    "\n",
    "                record_rev = (text_j, text_i, rel_rev, confidence)\n",
    "\n",
    "                if record not in exist_relationship:\n",
    "                    exist_relationship.append(record)\n",
    "                    if record[3] > 0.7:\n",
    "                        query = (\n",
    "                            \"MATCH (n1 {name: $name1})\"\n",
    "                            \"MATCH (n2 {name: $name2})\"\n",
    "                            \"MERGE (n1) - [r:\"+record[2]+\"] -> (n2)\"\n",
    "                            \"RETURN n1, n2, r\"\n",
    "                        )\n",
    "                        with graph.session() as session:\n",
    "                            result = session.run(query, name1=exist_ent[text_i], name2=exist_ent[text_j])\n",
    "\n",
    "                        print(\"Create new relationship {0} - {1} -> {2} with confidence of {3}\".format(record[0], record[2], record[1], record[3]))\n",
    "\n",
    "                if record_rev not in exist_relationship:\n",
    "                    exist_relationship.append(record_rev)\n",
    "                    if record_rev[3] > 0.8:\n",
    "                        query = (\n",
    "                            \"MATCH (n1 {name: $name1})\"\n",
    "                            \"MATCH (n2 {name: $name2})\"\n",
    "                            \"MERGE (n1) - [r:\"+record_rev[2]+\"] -> (n2)\"   \n",
    "                            \"RETURN n1, n2, r\"\n",
    "                        )\n",
    "\n",
    "                        with graph.session() as session:\n",
    "                            result = session.run(query, name1=exist_ent[text_j], name2=exist_ent[text_i])\n",
    "\n",
    "                        print(\"Create new relationship {0} - {1} -> {2} with confidence of {3}\".format(record_rev[0], record_rev[2], record_rev[1], record_rev[3]))\n",
    "       \n",
    "    except Exception:\n",
    "        continue"
   ]
  },
  {
   "cell_type": "markdown",
   "metadata": {},
   "source": [
    "### Add Ruleset"
   ]
  },
  {
   "cell_type": "code",
   "execution_count": 25,
   "metadata": {},
   "outputs": [],
   "source": [
    "# Rule 1: Resident & Animal Farm relationship/link\n",
    "\n",
    "query = (\n",
    "        \"MATCH (n1:PERSON), (n2 {name:'Animal Farm'}), (n3 {name:'Napoleon'})\"\n",
    "        \"MERGE (n1)-[r1:resident]->(n2)\"\n",
    "        \"MERGE (n1)-[r2:comrade]->(n3)\"\n",
    "        \"MERGE (n3)-[r3:comrade]->(n1)\"\n",
    ")\n",
    "# Execute above query to modify neo4j db:\n",
    "with graph.session() as session:\n",
    "    results = session.run(query)"
   ]
  },
  {
   "cell_type": "code",
   "execution_count": 26,
   "metadata": {},
   "outputs": [],
   "source": [
    "# Rule 2: Resident and participant relationship/link\n",
    "\n",
    "query = (\n",
    "        \"MATCH (n1 {name:'Napoleon'})-[r1]->(n2:PERSON)-[r2:resident]->(n3 {name:'Animal Farm'})\"\n",
    "        \"MERGE (n4 {name:'Rebellion'})-[r5:participant]->(n2)\"\n",
    ")\n",
    "\n",
    "# Execute above query to modify neo4j db:\n",
    "with graph.session() as session:\n",
    "    results = session.run(query)"
   ]
  },
  {
   "cell_type": "code",
   "execution_count": 27,
   "metadata": {},
   "outputs": [],
   "source": [
    "# Rule 3: Delete sibling and spouse links relationship/link\n",
    "\n",
    "query = (\n",
    "        \"MATCH (n1)-[r1:sibling]->(n2:PERSON), (n3:PERSON)-[r2:spouse]->(n4:PERSON)\"\n",
    "        \"DELETE r1, r2\"\n",
    ")\n",
    "\n",
    "# Execute above query to modify neo4j db:\n",
    "with graph.session() as session:\n",
    "    results = session.run(query)"
   ]
  },
  {
   "cell_type": "markdown",
   "metadata": {},
   "source": [
    "---"
   ]
  },
  {
   "cell_type": "code",
   "execution_count": 28,
   "metadata": {},
   "outputs": [
    {
     "name": "stdout",
     "output_type": "stream",
     "text": [
      "Deep Thought: Napoleon is field_of_work of Animal Farm.\n",
      "Deep Thought: Napoleon is resident of Animal Farm.\n"
     ]
    }
   ],
   "source": [
    "query = (\n",
    "        \"MATCH (n1 {name:'Napoleon'})-[r]->(n2 {name:'Animal Farm'})\"\n",
    "        \"RETURN n1, r, n2\"\n",
    ")\n",
    "with graph.session() as session:\n",
    "    results = session.run(query)\n",
    "    for result in results:\n",
    "        print(\"Deep Thought: {0} is {1} of {2}.\".format(result['n1']['name'], \n",
    "                                                           result['r'].type, \n",
    "                                                           result['n2']['name']))"
   ]
  },
  {
   "cell_type": "code",
   "execution_count": 29,
   "metadata": {
    "scrolled": true
   },
   "outputs": [
    {
     "name": "stdout",
     "output_type": "stream",
     "text": [
      "Deep Thought: Napoleon is said_to_be_the_same_as of Clover.\n",
      "Deep Thought: Napoleon is said_to_be_the_same_as of Mr Jones's.\n",
      "Deep Thought: Napoleon is father of Mr Jones.\n",
      "Deep Thought: Napoleon is residence of Foxwood.\n",
      "Deep Thought: Napoleon is military_rank of Major.\n",
      "Deep Thought: Napoleon is comrade of Muriel.\n",
      "Deep Thought: Napoleon is comrade of Alfred Simmonds.\n",
      "Deep Thought: Napoleon is comrade of Mollie.\n",
      "Deep Thought: Napoleon is comrade of Animalism.\n",
      "Deep Thought: Napoleon is comrade of Foxwood.\n",
      "Deep Thought: Napoleon is comrade of Mrs Jones's.\n",
      "Deep Thought: Napoleon is comrade of Jones.\n",
      "Deep Thought: Napoleon is comrade of A.\n",
      ".\n",
      "Deep Thought: Napoleon is comrade of George Orwell.\n",
      "Deep Thought: Napoleon is comrade of Mr Jones's.\n",
      "Deep Thought: Napoleon is comrade of Chapter III\n",
      ".\n",
      "Deep Thought: Napoleon is comrade of Clover.\n",
      "Deep Thought: Napoleon is comrade of Chapter VIII\n",
      ".\n",
      "Deep Thought: Napoleon is comrade of John Bull'.\n",
      "Deep Thought: Napoleon is comrade of Horse Slaughterer.\n",
      "Deep Thought: Napoleon is comrade of Pincher.\n",
      "Deep Thought: Napoleon is comrade of Whymper.\n",
      "Deep Thought: Napoleon is comrade of Mrs Jones.\n",
      "Deep Thought: Napoleon is comrade of Mr Jones--'One Thousand.\n",
      "Deep Thought: Napoleon is comrade of Squealer.\n",
      "Deep Thought: Napoleon is comrade of Animal Hero.\n",
      "Deep Thought: Napoleon is comrade of Snowball.\n",
      "Deep Thought: Napoleon is comrade of a Mr Frederick.\n",
      "Deep Thought: Napoleon is comrade of Mr Frederick.\n",
      "Deep Thought: Napoleon is comrade of Major.\n",
      "Deep Thought: Napoleon is comrade of Pilkington.\n",
      "Deep Thought: Napoleon is comrade of Mr Jones.\n",
      "Deep Thought: Napoleon is comrade of Chapter VI\n",
      ".\n",
      "Deep Thought: Napoleon is comrade of Eric Blair.\n",
      "Deep Thought: Napoleon is comrade of Benjamin.\n",
      "Deep Thought: Napoleon is comrade of Mr Pilkington.\n",
      "Deep Thought: Napoleon is comrade of Julius Caesar's.\n",
      "Deep Thought: Napoleon is comrade of Frederick.\n",
      "Deep Thought: Napoleon is comrade of Boxer.\n",
      "Deep Thought: Napoleon is comrade of Sleeps.\n",
      "Deep Thought: Napoleon is comrade of Jessie.\n",
      "Deep Thought: Napoleon is comrade of Napoleon.\n"
     ]
    }
   ],
   "source": [
    "query = (\n",
    "        \"MATCH (n1 {name:'Napoleon'})-[r]->(n2:PERSON)\"\n",
    "        \"RETURN n1, r, n2\"\n",
    ")\n",
    "with graph.session() as session:\n",
    "    results = session.run(query)\n",
    "    for result in results:\n",
    "        print(\"Deep Thought: {0} is {1} of {2}.\".format(result['n1']['name'], \n",
    "                                                           result['r'].type, \n",
    "                                                           result['n2']['name']))"
   ]
  },
  {
   "cell_type": "code",
   "execution_count": 30,
   "metadata": {
    "scrolled": true
   },
   "outputs": [
    {
     "name": "stdout",
     "output_type": "stream",
     "text": [
      "Deep Thought: Mrs Jones's is resident of Animal Farm.\n",
      "Deep Thought: Chapter III\n",
      " is resident of Animal Farm.\n",
      "Deep Thought: A.\n",
      " is resident of Animal Farm.\n",
      "Deep Thought: Foxwood is resident of Animal Farm.\n",
      "Deep Thought: Mr Pilkington is resident of Animal Farm.\n",
      "Deep Thought: a Mr Frederick is resident of Animal Farm.\n",
      "Deep Thought: Frederick is resident of Animal Farm.\n",
      "Deep Thought: Pilkington is resident of Animal Farm.\n",
      "Deep Thought: Julius Caesar's is resident of Animal Farm.\n",
      "Deep Thought: Mr Jones--'One Thousand is resident of Animal Farm.\n",
      "Deep Thought: Chapter VI\n",
      " is resident of Animal Farm.\n",
      "Deep Thought: Whymper is resident of Animal Farm.\n",
      "Deep Thought: Mr Frederick is resident of Animal Farm.\n",
      "Deep Thought: Animal Hero is resident of Animal Farm.\n",
      "Deep Thought: Chapter VIII\n",
      " is resident of Animal Farm.\n",
      "Deep Thought: Sleeps is resident of Animal Farm.\n",
      "Deep Thought: Alfred Simmonds is resident of Animal Farm.\n",
      "Deep Thought: Horse Slaughterer is resident of Animal Farm.\n",
      "Deep Thought: John Bull' is resident of Animal Farm.\n",
      "Deep Thought: George Orwell is resident of Animal Farm.\n",
      "Deep Thought: Eric Blair is resident of Animal Farm.\n",
      "Deep Thought: Mr Jones is resident of Animal Farm.\n",
      "Deep Thought: Mrs Jones is resident of Animal Farm.\n",
      "Deep Thought: Major is resident of Animal Farm.\n",
      "Deep Thought: Jessie is resident of Animal Farm.\n",
      "Deep Thought: Pincher is resident of Animal Farm.\n",
      "Deep Thought: Boxer is resident of Animal Farm.\n",
      "Deep Thought: Clover is resident of Animal Farm.\n",
      "Deep Thought: Muriel is resident of Animal Farm.\n",
      "Deep Thought: Benjamin is resident of Animal Farm.\n",
      "Deep Thought: Mollie is resident of Animal Farm.\n",
      "Deep Thought: Mr Jones's is resident of Animal Farm.\n",
      "Deep Thought: Jones is resident of Animal Farm.\n",
      "Deep Thought: Snowball is resident of Animal Farm.\n",
      "Deep Thought: Napoleon is resident of Animal Farm.\n",
      "Deep Thought: Squealer is resident of Animal Farm.\n",
      "Deep Thought: Animalism is resident of Animal Farm.\n"
     ]
    }
   ],
   "source": [
    "query = (\n",
    "        \"MATCH (n1:PERSON)-[r:resident]->(n2 {name:'Animal Farm'})\"\n",
    "        \"RETURN n1, r, n2\"\n",
    ")\n",
    "with graph.session() as session:\n",
    "    results = session.run(query)\n",
    "    for result in results:\n",
    "        print(\"Deep Thought: {0} is {1} of {2}.\".format(result['n1']['name'], \n",
    "                                                           result['r'].type, \n",
    "                                                           result['n2']['name']))"
   ]
  },
  {
   "cell_type": "code",
   "execution_count": 31,
   "metadata": {},
   "outputs": [
    {
     "name": "stdout",
     "output_type": "stream",
     "text": [
      "Deep Thought: Napoleon has comrade Snowball.\n"
     ]
    }
   ],
   "source": [
    "query = (\n",
    "        \"MATCH (n1 {name:'Napoleon'})-[r]->(n2 {name:'Snowball'})\"\n",
    "        \"RETURN n1, r, n2\"\n",
    ")\n",
    "with graph.session() as session:\n",
    "    results = session.run(query)\n",
    "    for result in results:\n",
    "        print(\"Deep Thought: {0} has {1} {2}.\".format(result['n1']['name'], \n",
    "                                                           result['r'].type, \n",
    "                                                           result['n2']['name']))"
   ]
  },
  {
   "cell_type": "code",
   "execution_count": 32,
   "metadata": {
    "scrolled": true
   },
   "outputs": [
    {
     "name": "stdout",
     "output_type": "stream",
     "text": [
      "Deep Thought: Rebellion has participant Mrs Jones's.\n",
      "Deep Thought: Rebellion has participant Chapter III\n",
      ".\n",
      "Deep Thought: Rebellion has participant A.\n",
      ".\n",
      "Deep Thought: Rebellion has participant Foxwood.\n",
      "Deep Thought: Rebellion has participant Mr Pilkington.\n",
      "Deep Thought: Rebellion has participant a Mr Frederick.\n",
      "Deep Thought: Rebellion has participant Frederick.\n",
      "Deep Thought: Rebellion has participant Pilkington.\n",
      "Deep Thought: Rebellion has participant Julius Caesar's.\n",
      "Deep Thought: Rebellion has participant Mr Jones--'One Thousand.\n",
      "Deep Thought: Rebellion has participant Chapter VI\n",
      ".\n",
      "Deep Thought: Rebellion has participant Whymper.\n",
      "Deep Thought: Rebellion has participant Mr Frederick.\n",
      "Deep Thought: Rebellion has participant Animal Hero.\n",
      "Deep Thought: Rebellion has participant Chapter VIII\n",
      ".\n",
      "Deep Thought: Rebellion has participant Sleeps.\n",
      "Deep Thought: Rebellion has participant Alfred Simmonds.\n",
      "Deep Thought: Rebellion has participant Horse Slaughterer.\n",
      "Deep Thought: Rebellion has participant John Bull'.\n",
      "Deep Thought: Rebellion has participant George Orwell.\n",
      "Deep Thought: Rebellion has participant Eric Blair.\n",
      "Deep Thought: Rebellion has participant Mr Jones.\n",
      "Deep Thought: Rebellion has participant Mrs Jones.\n",
      "Deep Thought: Rebellion has participant Major.\n",
      "Deep Thought: Rebellion has participant Jessie.\n",
      "Deep Thought: Rebellion has participant Pincher.\n",
      "Deep Thought: Rebellion has participant Boxer.\n",
      "Deep Thought: Rebellion has participant Muriel.\n",
      "Deep Thought: Rebellion has participant Benjamin.\n",
      "Deep Thought: Rebellion has participant Mollie.\n",
      "Deep Thought: Rebellion has participant Mr Jones's.\n",
      "Deep Thought: Rebellion has participant Napoleon.\n",
      "Deep Thought: Rebellion has participant Squealer.\n",
      "Deep Thought: Rebellion has participant Animalism.\n",
      "Deep Thought: Rebellion has participant Clover.\n",
      "Deep Thought: Rebellion has location the Manor Farm.\n",
      "Deep Thought: Rebellion has participant Jones.\n",
      "Deep Thought: Rebellion has participant Snowball.\n"
     ]
    }
   ],
   "source": [
    "query = (\n",
    "        \"MATCH (n1 {name:'Rebellion'})-[r]->(n2)\"\n",
    "        \"RETURN n1, r, n2\"\n",
    ")\n",
    "with graph.session() as session:\n",
    "    results = session.run(query)\n",
    "    for result in results:\n",
    "        print(\"Deep Thought: {0} has {1} {2}.\".format(result['n1']['name'], \n",
    "                                                           result['r'].type, \n",
    "                                                           result['n2']['name']))"
   ]
  }
 ],
 "metadata": {
  "kernelspec": {
   "display_name": "py37",
   "language": "python",
   "name": "py37"
  },
  "language_info": {
   "codemirror_mode": {
    "name": "ipython",
    "version": 3
   },
   "file_extension": ".py",
   "mimetype": "text/x-python",
   "name": "python",
   "nbconvert_exporter": "python",
   "pygments_lexer": "ipython3",
   "version": "3.7.0"
  }
 },
 "nbformat": 4,
 "nbformat_minor": 4
}